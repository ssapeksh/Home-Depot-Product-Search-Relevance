{
 "cells": [
  {
   "cell_type": "code",
   "execution_count": 1,
   "metadata": {
    "id": "E-_LPNcgrH2m"
   },
   "outputs": [],
   "source": [
    "import os\n",
    "import numpy as np\n",
    "import pandas as pd\n",
    "import seaborn as sns\n",
    "import matplotlib.pyplot as plt\n",
    "import re\n",
    "import zipfile\n",
    "import warnings\n",
    "warnings.filterwarnings('ignore')"
   ]
  },
  {
   "cell_type": "code",
   "execution_count": 2,
   "metadata": {
    "id": "vYkHFpMhrH2o"
   },
   "outputs": [],
   "source": [
    "from sklearn.model_selection import train_test_split\n",
    "from sklearn.ensemble import RandomForestRegressor\n",
    "from sklearn.ensemble import GradientBoostingRegressor\n",
    "import xgboost\n",
    "from scipy.sparse import hstack\n",
    "from sklearn.linear_model import LinearRegression\n",
    "from sklearn.linear_model import Ridge,Lasso,ElasticNet\n",
    "from sklearn.metrics import mean_squared_error\n",
    "from sklearn.linear_model import LogisticRegression\n",
    "from sklearn.feature_extraction.text import TfidfVectorizer\n",
    "%matplotlib inline"
   ]
  },
  {
   "cell_type": "code",
   "execution_count": 3,
   "metadata": {
    "id": "GpqZ0j2irH2p"
   },
   "outputs": [],
   "source": [
    "train_data = zipfile.ZipFile('G:/Applied_AI/case_study_1/train.csv.zip')\n",
    "train_data = pd.read_csv(train_data.open('train.csv'),encoding = \"ISO-8859-1\")"
   ]
  },
  {
   "cell_type": "code",
   "execution_count": 4,
   "metadata": {
    "colab": {
     "base_uri": "https://localhost:8080/"
    },
    "id": "cL4i5qX-rH2q",
    "outputId": "3c4cb379-48b5-4b8b-fd29-0956716695a9"
   },
   "outputs": [
    {
     "name": "stdout",
     "output_type": "stream",
     "text": [
      "(74067, 5)\n"
     ]
    },
    {
     "data": {
      "text/html": [
       "<div>\n",
       "<style scoped>\n",
       "    .dataframe tbody tr th:only-of-type {\n",
       "        vertical-align: middle;\n",
       "    }\n",
       "\n",
       "    .dataframe tbody tr th {\n",
       "        vertical-align: top;\n",
       "    }\n",
       "\n",
       "    .dataframe thead th {\n",
       "        text-align: right;\n",
       "    }\n",
       "</style>\n",
       "<table border=\"1\" class=\"dataframe\">\n",
       "  <thead>\n",
       "    <tr style=\"text-align: right;\">\n",
       "      <th></th>\n",
       "      <th>id</th>\n",
       "      <th>product_uid</th>\n",
       "      <th>product_title</th>\n",
       "      <th>search_term</th>\n",
       "      <th>relevance</th>\n",
       "    </tr>\n",
       "  </thead>\n",
       "  <tbody>\n",
       "    <tr>\n",
       "      <th>0</th>\n",
       "      <td>2</td>\n",
       "      <td>100001</td>\n",
       "      <td>Simpson Strong-Tie 12-Gauge Angle</td>\n",
       "      <td>angle bracket</td>\n",
       "      <td>3.00</td>\n",
       "    </tr>\n",
       "    <tr>\n",
       "      <th>1</th>\n",
       "      <td>3</td>\n",
       "      <td>100001</td>\n",
       "      <td>Simpson Strong-Tie 12-Gauge Angle</td>\n",
       "      <td>l bracket</td>\n",
       "      <td>2.50</td>\n",
       "    </tr>\n",
       "    <tr>\n",
       "      <th>2</th>\n",
       "      <td>9</td>\n",
       "      <td>100002</td>\n",
       "      <td>BEHR Premium Textured DeckOver 1-gal. #SC-141 ...</td>\n",
       "      <td>deck over</td>\n",
       "      <td>3.00</td>\n",
       "    </tr>\n",
       "    <tr>\n",
       "      <th>3</th>\n",
       "      <td>16</td>\n",
       "      <td>100005</td>\n",
       "      <td>Delta Vero 1-Handle Shower Only Faucet Trim Ki...</td>\n",
       "      <td>rain shower head</td>\n",
       "      <td>2.33</td>\n",
       "    </tr>\n",
       "    <tr>\n",
       "      <th>4</th>\n",
       "      <td>17</td>\n",
       "      <td>100005</td>\n",
       "      <td>Delta Vero 1-Handle Shower Only Faucet Trim Ki...</td>\n",
       "      <td>shower only faucet</td>\n",
       "      <td>2.67</td>\n",
       "    </tr>\n",
       "  </tbody>\n",
       "</table>\n",
       "</div>"
      ],
      "text/plain": [
       "   id  product_uid                                      product_title  \\\n",
       "0   2       100001                  Simpson Strong-Tie 12-Gauge Angle   \n",
       "1   3       100001                  Simpson Strong-Tie 12-Gauge Angle   \n",
       "2   9       100002  BEHR Premium Textured DeckOver 1-gal. #SC-141 ...   \n",
       "3  16       100005  Delta Vero 1-Handle Shower Only Faucet Trim Ki...   \n",
       "4  17       100005  Delta Vero 1-Handle Shower Only Faucet Trim Ki...   \n",
       "\n",
       "          search_term  relevance  \n",
       "0       angle bracket       3.00  \n",
       "1           l bracket       2.50  \n",
       "2           deck over       3.00  \n",
       "3    rain shower head       2.33  \n",
       "4  shower only faucet       2.67  "
      ]
     },
     "execution_count": 4,
     "metadata": {},
     "output_type": "execute_result"
    }
   ],
   "source": [
    "print(train_data.shape)\n",
    "train_data.head()"
   ]
  },
  {
   "cell_type": "code",
   "execution_count": 5,
   "metadata": {
    "colab": {
     "base_uri": "https://localhost:8080/"
    },
    "id": "Y8BJY4VKrH2s",
    "outputId": "a3b51dfc-a832-4b83-ec41-4dc5bd2f0a05"
   },
   "outputs": [
    {
     "name": "stdout",
     "output_type": "stream",
     "text": [
      "Unique product ids 54667\n"
     ]
    }
   ],
   "source": [
    "unique_product_ids = train_data.product_uid.unique()\n",
    "print('Unique product ids',len(unique_product_ids))"
   ]
  },
  {
   "cell_type": "code",
   "execution_count": 6,
   "metadata": {
    "colab": {
     "base_uri": "https://localhost:8080/",
     "height": 503
    },
    "id": "gNk56CK4rH2t",
    "outputId": "ab68da5a-40a6-42e0-ce22-6155fce1cd0a"
   },
   "outputs": [
    {
     "name": "stdout",
     "output_type": "stream",
     "text": [
      "Pressure-Treated Timber #2 Southern Yellow Pine (Common: 4 in. x 4 in. x 8 ft.; Actual: 3.56 in. x 3.56 in. x 96 in.)    21\n",
      "Lithonia Lighting All Season 4 ft. 2-Light Grey T8 Strip Fluorescent Shop Light                                          21\n",
      "2 in. x 4 in. x 96 in. Premium Kiln-Dried Whitewood Stud                                                                 18\n",
      "Ryobi ONE+ 18-Volt Lithium-Ion Ultimate Combo Kit (6-Tool)                                                               17\n",
      "Ryobi ONE+ 18-Volt Lithium-Ion Cordless Drill/Driver and Impact Driver Kit (2-Tool)                                      17\n",
      "                                                                                                                         ..\n",
      "Extreme Tools 41 in. Extreme Portable Workstation and 11-Drawer Standard Roller Cabinet Combination, Black                1\n",
      "Dremel 1-1/8 in. Bi-Metal Flush Cut Blade                                                                                 1\n",
      "Mueller Global 3/4 in. x 2-1/2 in. Galvanized Steel Nipple                                                                1\n",
      "Milwaukee 10-in-1 Square Drive Ratcheting Multi Bit Driver                                                                1\n",
      "9.8-oz. Clear Window and Door Silicone Caulk                                                                              1\n",
      "Name: product_title, Length: 53489, dtype: int64\n"
     ]
    },
    {
     "data": {
      "image/png": "[encoded data removed]",
      "text/plain": [
       "<Figure size 432x288 with 1 Axes>"
      ]
     },
     "metadata": {},
     "output_type": "display_data"
    }
   ],
   "source": [
    "prod_title = train_data['product_title'].value_counts()\n",
    "print(prod_title)\n",
    "plt.plot(prod_title.values)\n",
    "plt.title('Occurance of title')\n",
    "plt.ylabel('No of Occurance')\n",
    "plt.xlabel('No of products')\n",
    "plt.show()\n"
   ]
  },
  {
   "cell_type": "code",
   "execution_count": 7,
   "metadata": {
    "colab": {
     "base_uri": "https://localhost:8080/",
     "height": 503
    },
    "id": "v2mccxvorH2t",
    "outputId": "ca0d9f54-b5af-433d-c6b6-0b4cf6a66fac"
   },
   "outputs": [
    {
     "name": "stdout",
     "output_type": "stream",
     "text": [
      "everblit heavy duty canvas dropcloth           16\n",
      "anderson windows 400 seriesimpact resistant    16\n",
      "burgundy red foot stools                       16\n",
      "contact paoer                                  16\n",
      "1/2 zip wall                                   16\n",
      "                                               ..\n",
      "studio dual flush                               1\n",
      "7w compact flourescent bulb                     1\n",
      "handycap toilets                                1\n",
      "4-in x 12-in return grilles                     1\n",
      "over ran                                        1\n",
      "Name: search_term, Length: 11795, dtype: int64\n"
     ]
    },
    {
     "data": {
      "image/png": "[encoded data removed]",
      "text/plain": [
       "<Figure size 432x288 with 1 Axes>"
      ]
     },
     "metadata": {},
     "output_type": "display_data"
    }
   ],
   "source": [
    "prod_search_query = train_data['search_term'].value_counts()\n",
    "print(prod_search_query)\n",
    "plt.plot(prod_search_query.values)\n",
    "plt.title('Occurance of search term')\n",
    "plt.ylabel('No of occurance')\n",
    "plt.xlabel('No of Documents')\n",
    "plt.show()"
   ]
  },
  {
   "cell_type": "code",
   "execution_count": null,
   "metadata": {
    "id": "1Bp2Qb2NrH2u"
   },
   "outputs": [],
   "source": []
  },
  {
   "cell_type": "code",
   "execution_count": 8,
   "metadata": {
    "colab": {
     "base_uri": "https://localhost:8080/",
     "height": 552
    },
    "id": "kxCOIZVSrH2u",
    "outputId": "e3ca8d76-6503-4835-ac3b-b4bace57402f"
   },
   "outputs": [
    {
     "name": "stdout",
     "output_type": "stream",
     "text": [
      "3.00    19125\n",
      "2.33    16060\n",
      "2.67    15202\n",
      "2.00    11730\n",
      "1.67     6780\n",
      "1.33     3006\n",
      "1.00     2105\n",
      "2.50       19\n",
      "2.25       11\n",
      "2.75       11\n",
      "1.75        9\n",
      "1.50        5\n",
      "1.25        4\n",
      "Name: relevance, dtype: int64\n"
     ]
    },
    {
     "data": {
      "image/png": "[encoded data removed]",
      "text/plain": [
       "<Figure size 432x288 with 1 Axes>"
      ]
     },
     "metadata": {},
     "output_type": "display_data"
    }
   ],
   "source": [
    "relevence_score = train_data['relevance'].value_counts().sort_index()\n",
    "print(train_data['relevance'].value_counts())\n",
    "relevence_score.plot(kind='bar',width=1)\n",
    "plt.xlabel('relevence_Score')\n",
    "plt.ylabel('Number of products')\n",
    "plt.title('Occurance of relevance score')\n",
    "plt.show()"
   ]
  },
  {
   "cell_type": "markdown",
   "metadata": {
    "id": "l9DM9sDCrH2v"
   },
   "source": [
    "# Attribute Data"
   ]
  },
  {
   "cell_type": "code",
   "execution_count": 9,
   "metadata": {
    "id": "w_loOLlqrH2x"
   },
   "outputs": [],
   "source": [
    "attribute_data = zipfile.ZipFile('G:/Applied_AI/case_study_1/attributes.csv.zip')\n",
    "attribute_data = pd.read_csv(attribute_data.open('attributes.csv'),encoding = \"ISO-8859-1\")"
   ]
  },
  {
   "cell_type": "code",
   "execution_count": 10,
   "metadata": {
    "colab": {
     "base_uri": "https://localhost:8080/",
     "height": 206
    },
    "id": "ZSe6mKG-rH2y",
    "outputId": "062aee56-3683-4193-d1bf-37dc4cfcf940"
   },
   "outputs": [
    {
     "name": "stdout",
     "output_type": "stream",
     "text": [
      "(2044803, 3)\n"
     ]
    },
    {
     "data": {
      "text/html": [
       "<div>\n",
       "<style scoped>\n",
       "    .dataframe tbody tr th:only-of-type {\n",
       "        vertical-align: middle;\n",
       "    }\n",
       "\n",
       "    .dataframe tbody tr th {\n",
       "        vertical-align: top;\n",
       "    }\n",
       "\n",
       "    .dataframe thead th {\n",
       "        text-align: right;\n",
       "    }\n",
       "</style>\n",
       "<table border=\"1\" class=\"dataframe\">\n",
       "  <thead>\n",
       "    <tr style=\"text-align: right;\">\n",
       "      <th></th>\n",
       "      <th>product_uid</th>\n",
       "      <th>name</th>\n",
       "      <th>value</th>\n",
       "    </tr>\n",
       "  </thead>\n",
       "  <tbody>\n",
       "    <tr>\n",
       "      <th>0</th>\n",
       "      <td>100001.0</td>\n",
       "      <td>Bullet01</td>\n",
       "      <td>Versatile connector for various 90Â° connectio...</td>\n",
       "    </tr>\n",
       "    <tr>\n",
       "      <th>1</th>\n",
       "      <td>100001.0</td>\n",
       "      <td>Bullet02</td>\n",
       "      <td>Stronger than angled nailing or screw fastenin...</td>\n",
       "    </tr>\n",
       "    <tr>\n",
       "      <th>2</th>\n",
       "      <td>100001.0</td>\n",
       "      <td>Bullet03</td>\n",
       "      <td>Help ensure joints are consistently straight a...</td>\n",
       "    </tr>\n",
       "    <tr>\n",
       "      <th>3</th>\n",
       "      <td>100001.0</td>\n",
       "      <td>Bullet04</td>\n",
       "      <td>Dimensions: 3 in. x 3 in. x 1-1/2 in.</td>\n",
       "    </tr>\n",
       "    <tr>\n",
       "      <th>4</th>\n",
       "      <td>100001.0</td>\n",
       "      <td>Bullet05</td>\n",
       "      <td>Made from 12-Gauge steel</td>\n",
       "    </tr>\n",
       "  </tbody>\n",
       "</table>\n",
       "</div>"
      ],
      "text/plain": [
       "   product_uid      name                                              value\n",
       "0     100001.0  Bullet01  Versatile connector for various 90Â° connectio...\n",
       "1     100001.0  Bullet02  Stronger than angled nailing or screw fastenin...\n",
       "2     100001.0  Bullet03  Help ensure joints are consistently straight a...\n",
       "3     100001.0  Bullet04              Dimensions: 3 in. x 3 in. x 1-1/2 in.\n",
       "4     100001.0  Bullet05                           Made from 12-Gauge steel"
      ]
     },
     "execution_count": 10,
     "metadata": {},
     "output_type": "execute_result"
    }
   ],
   "source": [
    "print(attribute_data.shape)\n",
    "attribute_data.head()"
   ]
  },
  {
   "cell_type": "code",
   "execution_count": null,
   "metadata": {
    "colab": {
     "base_uri": "https://localhost:8080/"
    },
    "id": "OI18WWhcrH2z",
    "outputId": "d6d3c210-ee92-4d3a-dc12-45e8929dfb55"
   },
   "outputs": [],
   "source": []
  },
  {
   "cell_type": "code",
   "execution_count": 12,
   "metadata": {
    "colab": {
     "base_uri": "https://localhost:8080/",
     "height": 521
    },
    "id": "-ZVWgDJArH20",
    "outputId": "a746d9d7-2d30-4861-a389-f3a9c22d91c4"
   },
   "outputs": [
    {
     "name": "stdout",
     "output_type": "stream",
     "text": [
      "195932.0    88\n",
      "100532.0    80\n",
      "186482.0    79\n",
      "119037.0    79\n",
      "219723.0    78\n",
      "            ..\n",
      "179264.0     5\n",
      "204918.0     5\n",
      "169844.0     5\n",
      "171763.0     5\n",
      "193130.0     5\n",
      "Name: product_uid, Length: 86263, dtype: int64\n"
     ]
    },
    {
     "data": {
      "image/png": "[encoded data removed]",
      "text/plain": [
       "<Figure size 432x288 with 1 Axes>"
      ]
     },
     "metadata": {},
     "output_type": "display_data"
    }
   ],
   "source": [
    "prod_uid_att = attribute_data['product_uid'].value_counts()\n",
    "print(prod_uid_att)\n",
    "plt.plot(sorted(prod_uid_att.values))\n",
    "plt.title('No of characteristics for products')\n",
    "plt.xlabel('No of products')\n",
    "plt.ylabel('No of characteristics')\n",
    "plt.show()"
   ]
  },
  {
   "cell_type": "code",
   "execution_count": 14,
   "metadata": {
    "id": "8WRrPF1NrH21"
   },
   "outputs": [],
   "source": [
    "product_descriptions = zipfile.ZipFile('G:/Applied_AI/case_study_1/product_descriptions.csv.zip')\n",
    "product_descriptions = pd.read_csv(product_descriptions.open('product_descriptions.csv'),encoding = \"ISO-8859-1\")"
   ]
  },
  {
   "cell_type": "code",
   "execution_count": 15,
   "metadata": {
    "colab": {
     "base_uri": "https://localhost:8080/",
     "height": 206
    },
    "id": "xGgTwHPrrH21",
    "outputId": "68bbf72a-31e5-48cd-fb61-9197351576fe"
   },
   "outputs": [
    {
     "name": "stdout",
     "output_type": "stream",
     "text": [
      "(124428, 2)\n"
     ]
    },
    {
     "data": {
      "text/html": [
       "<div>\n",
       "<style scoped>\n",
       "    .dataframe tbody tr th:only-of-type {\n",
       "        vertical-align: middle;\n",
       "    }\n",
       "\n",
       "    .dataframe tbody tr th {\n",
       "        vertical-align: top;\n",
       "    }\n",
       "\n",
       "    .dataframe thead th {\n",
       "        text-align: right;\n",
       "    }\n",
       "</style>\n",
       "<table border=\"1\" class=\"dataframe\">\n",
       "  <thead>\n",
       "    <tr style=\"text-align: right;\">\n",
       "      <th></th>\n",
       "      <th>product_uid</th>\n",
       "      <th>product_description</th>\n",
       "    </tr>\n",
       "  </thead>\n",
       "  <tbody>\n",
       "    <tr>\n",
       "      <th>0</th>\n",
       "      <td>100001</td>\n",
       "      <td>Not only do angles make joints stronger, they ...</td>\n",
       "    </tr>\n",
       "    <tr>\n",
       "      <th>1</th>\n",
       "      <td>100002</td>\n",
       "      <td>BEHR Premium Textured DECKOVER is an innovativ...</td>\n",
       "    </tr>\n",
       "    <tr>\n",
       "      <th>2</th>\n",
       "      <td>100003</td>\n",
       "      <td>Classic architecture meets contemporary design...</td>\n",
       "    </tr>\n",
       "    <tr>\n",
       "      <th>3</th>\n",
       "      <td>100004</td>\n",
       "      <td>The Grape Solar 265-Watt Polycrystalline PV So...</td>\n",
       "    </tr>\n",
       "    <tr>\n",
       "      <th>4</th>\n",
       "      <td>100005</td>\n",
       "      <td>Update your bathroom with the Delta Vero Singl...</td>\n",
       "    </tr>\n",
       "  </tbody>\n",
       "</table>\n",
       "</div>"
      ],
      "text/plain": [
       "   product_uid                                product_description\n",
       "0       100001  Not only do angles make joints stronger, they ...\n",
       "1       100002  BEHR Premium Textured DECKOVER is an innovativ...\n",
       "2       100003  Classic architecture meets contemporary design...\n",
       "3       100004  The Grape Solar 265-Watt Polycrystalline PV So...\n",
       "4       100005  Update your bathroom with the Delta Vero Singl..."
      ]
     },
     "execution_count": 15,
     "metadata": {},
     "output_type": "execute_result"
    }
   ],
   "source": [
    "print(product_descriptions.shape)\n",
    "product_descriptions.head()"
   ]
  },
  {
   "cell_type": "code",
   "execution_count": 16,
   "metadata": {
    "colab": {
     "base_uri": "https://localhost:8080/",
     "height": 503
    },
    "id": "KR4_fGGWrH22",
    "outputId": "a02da9f6-9367-4b22-a32d-ca15c140da7f"
   },
   "outputs": [
    {
     "name": "stdout",
     "output_type": "stream",
     "text": [
      "100303    1\n",
      "107934    1\n",
      "187761    1\n",
      "181618    1\n",
      "183667    1\n",
      "         ..\n",
      "105190    1\n",
      "103143    1\n",
      "125672    1\n",
      "123625    1\n",
      "100401    1\n",
      "Name: product_uid, Length: 124428, dtype: int64\n"
     ]
    },
    {
     "data": {
      "image/png": "[encoded data removed]",
      "text/plain": [
       "<Figure size 432x288 with 1 Axes>"
      ]
     },
     "metadata": {},
     "output_type": "display_data"
    }
   ],
   "source": [
    "prod_uid_desc = product_descriptions['product_uid'].value_counts()\n",
    "print(prod_uid_desc)\n",
    "plt.plot(prod_uid_desc)\n",
    "plt.xlabel('No of Products')\n",
    "plt.ylabel('No of Occurance')\n",
    "plt.title('Occurance of products')\n",
    "plt.show()"
   ]
  },
  {
   "cell_type": "code",
   "execution_count": 17,
   "metadata": {
    "colab": {
     "base_uri": "https://localhost:8080/"
    },
    "id": "O1Y6Aot5rH23",
    "outputId": "a7f2099b-5dbf-49f1-e047-9c1410f618d3"
   },
   "outputs": [
    {
     "data": {
      "text/plain": [
       "array(['Not only do angles make joints stronger, they also provide more consistent, straight corners. Simpson Strong-Tie offers a wide variety of angles in various sizes and thicknesses to handle light-duty jobs or projects where a structural connection is needed. Some can be bent (skewed) to match the project. For outdoor projects or those where moisture is present, use our ZMAX zinc-coated connectors, which provide extra resistance against corrosion (look for a \"Z\" at the end of the model number).Versatile connector for various 90 connections and home repair projectsStronger than angled nailing or screw fastening aloneHelp ensure joints are consistently straight and strongDimensions: 3 in. x 3 in. x 1-1/2 in.Made from 12-Gauge steelGalvanized for extra corrosion resistanceInstall with 10d common nails or #9 x 1-1/2 in. Strong-Drive SD screws',\n",
       "       'BEHR Premium Textured DECKOVER is an innovative solid color coating. It will bring your old, weathered wood or concrete back to life. The advanced 100% acrylic resin formula creates a durable coating for your tired and worn out deck, rejuvenating to a whole new look.  For the best results, be sure to properly prepare the surface using other applicable BEHR products displayed above.California residents: see&nbsp;Proposition 65 informationRevives wood and composite decks, railings, porches and boat docks, also great for concrete pool decks, patios and sidewalks100% acrylic solid color coatingResists cracking and peeling and conceals splinters and cracks up to 1/4 in.Provides a durable, mildew resistant finishCovers up to 75 sq. ft. in 2 coats per gallonCreates a textured, slip-resistant finishFor best results, prepare with the appropriate BEHR product for your wood or concrete surfaceActual paint colors may vary from on-screen and printer representationsColors available to be tinted in most storesOnline Price includes Paint Care fee in the following states: CA, CO, CT, ME, MN, OR, RI, VT',\n",
       "       'Classic architecture meets contemporary design in the Ensemble Curve series, made of solid Vikrell material, blending sleek, clean lines with gentle curves. Corner shelving is perfect for storing bath accessories. Modular design allows it to be moved around corners and through doorways with ease. Curve wall with a smooth, contemporary look, featuring integrated storage shelves.Slightly narrower for tighter spacesDesigned with an 18 in. apronDurable high-gloss finish provides a smooth, shiny surface that is easy to cleanConforms to ANSI Z124.1.2 and CSA B45.1 national consensus standardsCurve wall with a smooth, contemporary look, featuring integrated storage shelves',\n",
       "       'The Grape Solar 265-Watt Polycrystalline PV Solar Panel bonus pack bundles 4 Grape Solar 265-Watt solar panels for extra savings. The Grape Solar 265-Watt Polycrystalline PV Solar Panel uses high efficiency solar cells (approximately 19%) made from quality silicon material for high module conversion efficiency, long term output stability, and reliability. Virtually maintenance free. High transmittance, low iron tempered glass for durability and enhanced impact resistance.Positive power tolerance (0 to +5-Watt)Anti-reflective and anti-soiling surface reduces power loss from dirt and dustOutstanding performance in low-light irradiances environmentsCertified to withstand high wind and snow loads100% electroluminescence inspection ensures modules are defect freePositive and negative leads quipped with MC4 connectors',\n",
       "       'Update your bathroom with the Delta Vero Single-Handle Shower Faucet Trim Kit in Chrome. It has a sleek, modern and minimalistic aesthetic. The MultiChoice universal valve keeps the water temperature within +/-3 degrees Fahrenheit to help prevent scalding.California residents: see&nbsp;Proposition 65 informationIncludes the trim kit only, the rough-in kit (R10000-UNBX) is sold separatelyIncludes the handleMaintains a balanced pressure of hot and cold water even when a valve is turned on or off elsewhere in the systemDue to WaterSense regulations in the state of New York, please confirm your shipping zip code is not restricted from use of items that do not meet WaterSense qualifications'],\n",
       "      dtype=object)"
      ]
     },
     "execution_count": 17,
     "metadata": {},
     "output_type": "execute_result"
    }
   ],
   "source": [
    "pro_desc = product_descriptions['product_description'][:5].values\n",
    "pro_desc"
   ]
  },
  {
   "cell_type": "code",
   "execution_count": null,
   "metadata": {
    "id": "AUE93Ve_rH23"
   },
   "outputs": [],
   "source": []
  },
  {
   "cell_type": "code",
   "execution_count": 18,
   "metadata": {
    "id": "X1l0VgkIrH24"
   },
   "outputs": [],
   "source": [
    "new_datafame = pd.DataFrame()\n",
    "new_datafame = train_data"
   ]
  },
  {
   "cell_type": "code",
   "execution_count": 19,
   "metadata": {
    "colab": {
     "base_uri": "https://localhost:8080/",
     "height": 424
    },
    "id": "vo_hJEF5rH24",
    "outputId": "42f51e54-8063-400a-b114-34d24143504f"
   },
   "outputs": [
    {
     "data": {
      "text/html": [
       "<div>\n",
       "<style scoped>\n",
       "    .dataframe tbody tr th:only-of-type {\n",
       "        vertical-align: middle;\n",
       "    }\n",
       "\n",
       "    .dataframe tbody tr th {\n",
       "        vertical-align: top;\n",
       "    }\n",
       "\n",
       "    .dataframe thead th {\n",
       "        text-align: right;\n",
       "    }\n",
       "</style>\n",
       "<table border=\"1\" class=\"dataframe\">\n",
       "  <thead>\n",
       "    <tr style=\"text-align: right;\">\n",
       "      <th></th>\n",
       "      <th>id</th>\n",
       "      <th>product_uid</th>\n",
       "      <th>product_title</th>\n",
       "      <th>search_term</th>\n",
       "      <th>relevance</th>\n",
       "    </tr>\n",
       "  </thead>\n",
       "  <tbody>\n",
       "    <tr>\n",
       "      <th>0</th>\n",
       "      <td>2</td>\n",
       "      <td>100001</td>\n",
       "      <td>Simpson Strong-Tie 12-Gauge Angle</td>\n",
       "      <td>angle bracket</td>\n",
       "      <td>3.00</td>\n",
       "    </tr>\n",
       "    <tr>\n",
       "      <th>1</th>\n",
       "      <td>3</td>\n",
       "      <td>100001</td>\n",
       "      <td>Simpson Strong-Tie 12-Gauge Angle</td>\n",
       "      <td>l bracket</td>\n",
       "      <td>2.50</td>\n",
       "    </tr>\n",
       "    <tr>\n",
       "      <th>2</th>\n",
       "      <td>9</td>\n",
       "      <td>100002</td>\n",
       "      <td>BEHR Premium Textured DeckOver 1-gal. #SC-141 ...</td>\n",
       "      <td>deck over</td>\n",
       "      <td>3.00</td>\n",
       "    </tr>\n",
       "    <tr>\n",
       "      <th>3</th>\n",
       "      <td>16</td>\n",
       "      <td>100005</td>\n",
       "      <td>Delta Vero 1-Handle Shower Only Faucet Trim Ki...</td>\n",
       "      <td>rain shower head</td>\n",
       "      <td>2.33</td>\n",
       "    </tr>\n",
       "    <tr>\n",
       "      <th>4</th>\n",
       "      <td>17</td>\n",
       "      <td>100005</td>\n",
       "      <td>Delta Vero 1-Handle Shower Only Faucet Trim Ki...</td>\n",
       "      <td>shower only faucet</td>\n",
       "      <td>2.67</td>\n",
       "    </tr>\n",
       "    <tr>\n",
       "      <th>...</th>\n",
       "      <td>...</td>\n",
       "      <td>...</td>\n",
       "      <td>...</td>\n",
       "      <td>...</td>\n",
       "      <td>...</td>\n",
       "    </tr>\n",
       "    <tr>\n",
       "      <th>74062</th>\n",
       "      <td>221457</td>\n",
       "      <td>206638</td>\n",
       "      <td>Atlantic Windowpane 576 CD or 192 DVD Blu-Ray ...</td>\n",
       "      <td>tv riser glass</td>\n",
       "      <td>1.00</td>\n",
       "    </tr>\n",
       "    <tr>\n",
       "      <th>74063</th>\n",
       "      <td>221458</td>\n",
       "      <td>206639</td>\n",
       "      <td>Philips 40-Watt Halogen R20 Flood Light Bulb (...</td>\n",
       "      <td>r20 halogen light</td>\n",
       "      <td>3.00</td>\n",
       "    </tr>\n",
       "    <tr>\n",
       "      <th>74064</th>\n",
       "      <td>221463</td>\n",
       "      <td>206641</td>\n",
       "      <td>Schlage Camelot In-Active Aged Bronze Handlese...</td>\n",
       "      <td>schlage lock siena half dummy knob with</td>\n",
       "      <td>2.33</td>\n",
       "    </tr>\n",
       "    <tr>\n",
       "      <th>74065</th>\n",
       "      <td>221471</td>\n",
       "      <td>206648</td>\n",
       "      <td>Plastec 11 in. x 24 in. Rose Garden Wall Decor...</td>\n",
       "      <td>zen garden  decor</td>\n",
       "      <td>3.00</td>\n",
       "    </tr>\n",
       "    <tr>\n",
       "      <th>74066</th>\n",
       "      <td>221473</td>\n",
       "      <td>206650</td>\n",
       "      <td>LICHTENBERG Pool Blue No. 918 Millennial Ryan ...</td>\n",
       "      <td>fine sheer curtain 63 inches</td>\n",
       "      <td>2.33</td>\n",
       "    </tr>\n",
       "  </tbody>\n",
       "</table>\n",
       "<p>74067 rows × 5 columns</p>\n",
       "</div>"
      ],
      "text/plain": [
       "           id  product_uid                                      product_title  \\\n",
       "0           2       100001                  Simpson Strong-Tie 12-Gauge Angle   \n",
       "1           3       100001                  Simpson Strong-Tie 12-Gauge Angle   \n",
       "2           9       100002  BEHR Premium Textured DeckOver 1-gal. #SC-141 ...   \n",
       "3          16       100005  Delta Vero 1-Handle Shower Only Faucet Trim Ki...   \n",
       "4          17       100005  Delta Vero 1-Handle Shower Only Faucet Trim Ki...   \n",
       "...       ...          ...                                                ...   \n",
       "74062  221457       206638  Atlantic Windowpane 576 CD or 192 DVD Blu-Ray ...   \n",
       "74063  221458       206639  Philips 40-Watt Halogen R20 Flood Light Bulb (...   \n",
       "74064  221463       206641  Schlage Camelot In-Active Aged Bronze Handlese...   \n",
       "74065  221471       206648  Plastec 11 in. x 24 in. Rose Garden Wall Decor...   \n",
       "74066  221473       206650  LICHTENBERG Pool Blue No. 918 Millennial Ryan ...   \n",
       "\n",
       "                                   search_term  relevance  \n",
       "0                                angle bracket       3.00  \n",
       "1                                    l bracket       2.50  \n",
       "2                                    deck over       3.00  \n",
       "3                             rain shower head       2.33  \n",
       "4                           shower only faucet       2.67  \n",
       "...                                        ...        ...  \n",
       "74062                           tv riser glass       1.00  \n",
       "74063                        r20 halogen light       3.00  \n",
       "74064  schlage lock siena half dummy knob with       2.33  \n",
       "74065                        zen garden  decor       3.00  \n",
       "74066             fine sheer curtain 63 inches       2.33  \n",
       "\n",
       "[74067 rows x 5 columns]"
      ]
     },
     "execution_count": 19,
     "metadata": {},
     "output_type": "execute_result"
    }
   ],
   "source": [
    "new_datafame"
   ]
  },
  {
   "cell_type": "markdown",
   "metadata": {
    "id": "jF5WCmFKrH25"
   },
   "source": [
    "## new_data = Train data + Attribute data"
   ]
  },
  {
   "cell_type": "code",
   "execution_count": 20,
   "metadata": {
    "id": "yK0Gl-wprH25"
   },
   "outputs": [],
   "source": [
    "new_datafame = new_datafame.merge(attribute_data,on='product_uid',how='left')"
   ]
  },
  {
   "cell_type": "code",
   "execution_count": 21,
   "metadata": {
    "colab": {
     "base_uri": "https://localhost:8080/",
     "height": 607
    },
    "id": "KzVRjGdJrH25",
    "outputId": "ca276644-8657-40b7-9e28-fe0ddebfb350"
   },
   "outputs": [
    {
     "data": {
      "text/html": [
       "<div>\n",
       "<style scoped>\n",
       "    .dataframe tbody tr th:only-of-type {\n",
       "        vertical-align: middle;\n",
       "    }\n",
       "\n",
       "    .dataframe tbody tr th {\n",
       "        vertical-align: top;\n",
       "    }\n",
       "\n",
       "    .dataframe thead th {\n",
       "        text-align: right;\n",
       "    }\n",
       "</style>\n",
       "<table border=\"1\" class=\"dataframe\">\n",
       "  <thead>\n",
       "    <tr style=\"text-align: right;\">\n",
       "      <th></th>\n",
       "      <th>id</th>\n",
       "      <th>product_uid</th>\n",
       "      <th>product_title</th>\n",
       "      <th>search_term</th>\n",
       "      <th>relevance</th>\n",
       "      <th>name</th>\n",
       "      <th>value</th>\n",
       "    </tr>\n",
       "  </thead>\n",
       "  <tbody>\n",
       "    <tr>\n",
       "      <th>0</th>\n",
       "      <td>2</td>\n",
       "      <td>100001</td>\n",
       "      <td>Simpson Strong-Tie 12-Gauge Angle</td>\n",
       "      <td>angle bracket</td>\n",
       "      <td>3.00</td>\n",
       "      <td>Bullet01</td>\n",
       "      <td>Versatile connector for various 90Â° connectio...</td>\n",
       "    </tr>\n",
       "    <tr>\n",
       "      <th>1</th>\n",
       "      <td>2</td>\n",
       "      <td>100001</td>\n",
       "      <td>Simpson Strong-Tie 12-Gauge Angle</td>\n",
       "      <td>angle bracket</td>\n",
       "      <td>3.00</td>\n",
       "      <td>Bullet02</td>\n",
       "      <td>Stronger than angled nailing or screw fastenin...</td>\n",
       "    </tr>\n",
       "    <tr>\n",
       "      <th>2</th>\n",
       "      <td>2</td>\n",
       "      <td>100001</td>\n",
       "      <td>Simpson Strong-Tie 12-Gauge Angle</td>\n",
       "      <td>angle bracket</td>\n",
       "      <td>3.00</td>\n",
       "      <td>Bullet03</td>\n",
       "      <td>Help ensure joints are consistently straight a...</td>\n",
       "    </tr>\n",
       "    <tr>\n",
       "      <th>3</th>\n",
       "      <td>2</td>\n",
       "      <td>100001</td>\n",
       "      <td>Simpson Strong-Tie 12-Gauge Angle</td>\n",
       "      <td>angle bracket</td>\n",
       "      <td>3.00</td>\n",
       "      <td>Bullet04</td>\n",
       "      <td>Dimensions: 3 in. x 3 in. x 1-1/2 in.</td>\n",
       "    </tr>\n",
       "    <tr>\n",
       "      <th>4</th>\n",
       "      <td>2</td>\n",
       "      <td>100001</td>\n",
       "      <td>Simpson Strong-Tie 12-Gauge Angle</td>\n",
       "      <td>angle bracket</td>\n",
       "      <td>3.00</td>\n",
       "      <td>Bullet05</td>\n",
       "      <td>Made from 12-Gauge steel</td>\n",
       "    </tr>\n",
       "    <tr>\n",
       "      <th>...</th>\n",
       "      <td>...</td>\n",
       "      <td>...</td>\n",
       "      <td>...</td>\n",
       "      <td>...</td>\n",
       "      <td>...</td>\n",
       "      <td>...</td>\n",
       "      <td>...</td>\n",
       "    </tr>\n",
       "    <tr>\n",
       "      <th>1428147</th>\n",
       "      <td>221473</td>\n",
       "      <td>206650</td>\n",
       "      <td>LICHTENBERG Pool Blue No. 918 Millennial Ryan ...</td>\n",
       "      <td>fine sheer curtain 63 inches</td>\n",
       "      <td>2.33</td>\n",
       "      <td>Product Weight (lb.)</td>\n",
       "      <td>0.66</td>\n",
       "    </tr>\n",
       "    <tr>\n",
       "      <th>1428148</th>\n",
       "      <td>221473</td>\n",
       "      <td>206650</td>\n",
       "      <td>LICHTENBERG Pool Blue No. 918 Millennial Ryan ...</td>\n",
       "      <td>fine sheer curtain 63 inches</td>\n",
       "      <td>2.33</td>\n",
       "      <td>Product Width (in.)</td>\n",
       "      <td>40</td>\n",
       "    </tr>\n",
       "    <tr>\n",
       "      <th>1428149</th>\n",
       "      <td>221473</td>\n",
       "      <td>206650</td>\n",
       "      <td>LICHTENBERG Pool Blue No. 918 Millennial Ryan ...</td>\n",
       "      <td>fine sheer curtain 63 inches</td>\n",
       "      <td>2.33</td>\n",
       "      <td>Width (in) x Length (in)</td>\n",
       "      <td>40 x 63</td>\n",
       "    </tr>\n",
       "    <tr>\n",
       "      <th>1428150</th>\n",
       "      <td>221473</td>\n",
       "      <td>206650</td>\n",
       "      <td>LICHTENBERG Pool Blue No. 918 Millennial Ryan ...</td>\n",
       "      <td>fine sheer curtain 63 inches</td>\n",
       "      <td>2.33</td>\n",
       "      <td>Window Treatment Product Type</td>\n",
       "      <td>Drapery Panel</td>\n",
       "    </tr>\n",
       "    <tr>\n",
       "      <th>1428151</th>\n",
       "      <td>221473</td>\n",
       "      <td>206650</td>\n",
       "      <td>LICHTENBERG Pool Blue No. 918 Millennial Ryan ...</td>\n",
       "      <td>fine sheer curtain 63 inches</td>\n",
       "      <td>2.33</td>\n",
       "      <td>Wrinkle resistant</td>\n",
       "      <td>No</td>\n",
       "    </tr>\n",
       "  </tbody>\n",
       "</table>\n",
       "<p>1428152 rows × 7 columns</p>\n",
       "</div>"
      ],
      "text/plain": [
       "             id  product_uid  \\\n",
       "0             2       100001   \n",
       "1             2       100001   \n",
       "2             2       100001   \n",
       "3             2       100001   \n",
       "4             2       100001   \n",
       "...         ...          ...   \n",
       "1428147  221473       206650   \n",
       "1428148  221473       206650   \n",
       "1428149  221473       206650   \n",
       "1428150  221473       206650   \n",
       "1428151  221473       206650   \n",
       "\n",
       "                                             product_title  \\\n",
       "0                        Simpson Strong-Tie 12-Gauge Angle   \n",
       "1                        Simpson Strong-Tie 12-Gauge Angle   \n",
       "2                        Simpson Strong-Tie 12-Gauge Angle   \n",
       "3                        Simpson Strong-Tie 12-Gauge Angle   \n",
       "4                        Simpson Strong-Tie 12-Gauge Angle   \n",
       "...                                                    ...   \n",
       "1428147  LICHTENBERG Pool Blue No. 918 Millennial Ryan ...   \n",
       "1428148  LICHTENBERG Pool Blue No. 918 Millennial Ryan ...   \n",
       "1428149  LICHTENBERG Pool Blue No. 918 Millennial Ryan ...   \n",
       "1428150  LICHTENBERG Pool Blue No. 918 Millennial Ryan ...   \n",
       "1428151  LICHTENBERG Pool Blue No. 918 Millennial Ryan ...   \n",
       "\n",
       "                          search_term  relevance  \\\n",
       "0                       angle bracket       3.00   \n",
       "1                       angle bracket       3.00   \n",
       "2                       angle bracket       3.00   \n",
       "3                       angle bracket       3.00   \n",
       "4                       angle bracket       3.00   \n",
       "...                               ...        ...   \n",
       "1428147  fine sheer curtain 63 inches       2.33   \n",
       "1428148  fine sheer curtain 63 inches       2.33   \n",
       "1428149  fine sheer curtain 63 inches       2.33   \n",
       "1428150  fine sheer curtain 63 inches       2.33   \n",
       "1428151  fine sheer curtain 63 inches       2.33   \n",
       "\n",
       "                                  name  \\\n",
       "0                             Bullet01   \n",
       "1                             Bullet02   \n",
       "2                             Bullet03   \n",
       "3                             Bullet04   \n",
       "4                             Bullet05   \n",
       "...                                ...   \n",
       "1428147           Product Weight (lb.)   \n",
       "1428148            Product Width (in.)   \n",
       "1428149       Width (in) x Length (in)   \n",
       "1428150  Window Treatment Product Type   \n",
       "1428151              Wrinkle resistant   \n",
       "\n",
       "                                                     value  \n",
       "0        Versatile connector for various 90Â° connectio...  \n",
       "1        Stronger than angled nailing or screw fastenin...  \n",
       "2        Help ensure joints are consistently straight a...  \n",
       "3                    Dimensions: 3 in. x 3 in. x 1-1/2 in.  \n",
       "4                                 Made from 12-Gauge steel  \n",
       "...                                                    ...  \n",
       "1428147                                               0.66  \n",
       "1428148                                                 40  \n",
       "1428149                                            40 x 63  \n",
       "1428150                                      Drapery Panel  \n",
       "1428151                                                 No  \n",
       "\n",
       "[1428152 rows x 7 columns]"
      ]
     },
     "execution_count": 21,
     "metadata": {},
     "output_type": "execute_result"
    }
   ],
   "source": [
    "new_datafame"
   ]
  },
  {
   "cell_type": "markdown",
   "metadata": {
    "id": "4zpulbearH26"
   },
   "source": [
    "## new_data + product_description"
   ]
  },
  {
   "cell_type": "code",
   "execution_count": 22,
   "metadata": {
    "id": "kqr7vDQxrH26"
   },
   "outputs": [],
   "source": [
    "new_datafame = new_datafame.merge(product_descriptions,on='product_uid',how='left')"
   ]
  },
  {
   "cell_type": "code",
   "execution_count": 23,
   "metadata": {
    "colab": {
     "base_uri": "https://localhost:8080/",
     "height": 693
    },
    "id": "pE5SACqsrH26",
    "outputId": "218ce829-48db-42e4-9172-10bccd952cdf"
   },
   "outputs": [
    {
     "data": {
      "text/html": [
       "<div>\n",
       "<style scoped>\n",
       "    .dataframe tbody tr th:only-of-type {\n",
       "        vertical-align: middle;\n",
       "    }\n",
       "\n",
       "    .dataframe tbody tr th {\n",
       "        vertical-align: top;\n",
       "    }\n",
       "\n",
       "    .dataframe thead th {\n",
       "        text-align: right;\n",
       "    }\n",
       "</style>\n",
       "<table border=\"1\" class=\"dataframe\">\n",
       "  <thead>\n",
       "    <tr style=\"text-align: right;\">\n",
       "      <th></th>\n",
       "      <th>id</th>\n",
       "      <th>product_uid</th>\n",
       "      <th>product_title</th>\n",
       "      <th>search_term</th>\n",
       "      <th>relevance</th>\n",
       "      <th>name</th>\n",
       "      <th>value</th>\n",
       "      <th>product_description</th>\n",
       "    </tr>\n",
       "  </thead>\n",
       "  <tbody>\n",
       "    <tr>\n",
       "      <th>0</th>\n",
       "      <td>2</td>\n",
       "      <td>100001</td>\n",
       "      <td>Simpson Strong-Tie 12-Gauge Angle</td>\n",
       "      <td>angle bracket</td>\n",
       "      <td>3.00</td>\n",
       "      <td>Bullet01</td>\n",
       "      <td>Versatile connector for various 90Â° connectio...</td>\n",
       "      <td>Not only do angles make joints stronger, they ...</td>\n",
       "    </tr>\n",
       "    <tr>\n",
       "      <th>1</th>\n",
       "      <td>2</td>\n",
       "      <td>100001</td>\n",
       "      <td>Simpson Strong-Tie 12-Gauge Angle</td>\n",
       "      <td>angle bracket</td>\n",
       "      <td>3.00</td>\n",
       "      <td>Bullet02</td>\n",
       "      <td>Stronger than angled nailing or screw fastenin...</td>\n",
       "      <td>Not only do angles make joints stronger, they ...</td>\n",
       "    </tr>\n",
       "    <tr>\n",
       "      <th>2</th>\n",
       "      <td>2</td>\n",
       "      <td>100001</td>\n",
       "      <td>Simpson Strong-Tie 12-Gauge Angle</td>\n",
       "      <td>angle bracket</td>\n",
       "      <td>3.00</td>\n",
       "      <td>Bullet03</td>\n",
       "      <td>Help ensure joints are consistently straight a...</td>\n",
       "      <td>Not only do angles make joints stronger, they ...</td>\n",
       "    </tr>\n",
       "    <tr>\n",
       "      <th>3</th>\n",
       "      <td>2</td>\n",
       "      <td>100001</td>\n",
       "      <td>Simpson Strong-Tie 12-Gauge Angle</td>\n",
       "      <td>angle bracket</td>\n",
       "      <td>3.00</td>\n",
       "      <td>Bullet04</td>\n",
       "      <td>Dimensions: 3 in. x 3 in. x 1-1/2 in.</td>\n",
       "      <td>Not only do angles make joints stronger, they ...</td>\n",
       "    </tr>\n",
       "    <tr>\n",
       "      <th>4</th>\n",
       "      <td>2</td>\n",
       "      <td>100001</td>\n",
       "      <td>Simpson Strong-Tie 12-Gauge Angle</td>\n",
       "      <td>angle bracket</td>\n",
       "      <td>3.00</td>\n",
       "      <td>Bullet05</td>\n",
       "      <td>Made from 12-Gauge steel</td>\n",
       "      <td>Not only do angles make joints stronger, they ...</td>\n",
       "    </tr>\n",
       "    <tr>\n",
       "      <th>...</th>\n",
       "      <td>...</td>\n",
       "      <td>...</td>\n",
       "      <td>...</td>\n",
       "      <td>...</td>\n",
       "      <td>...</td>\n",
       "      <td>...</td>\n",
       "      <td>...</td>\n",
       "      <td>...</td>\n",
       "    </tr>\n",
       "    <tr>\n",
       "      <th>1428147</th>\n",
       "      <td>221473</td>\n",
       "      <td>206650</td>\n",
       "      <td>LICHTENBERG Pool Blue No. 918 Millennial Ryan ...</td>\n",
       "      <td>fine sheer curtain 63 inches</td>\n",
       "      <td>2.33</td>\n",
       "      <td>Product Weight (lb.)</td>\n",
       "      <td>0.66</td>\n",
       "      <td>No. 918 Millennial Ryan heathered texture semi...</td>\n",
       "    </tr>\n",
       "    <tr>\n",
       "      <th>1428148</th>\n",
       "      <td>221473</td>\n",
       "      <td>206650</td>\n",
       "      <td>LICHTENBERG Pool Blue No. 918 Millennial Ryan ...</td>\n",
       "      <td>fine sheer curtain 63 inches</td>\n",
       "      <td>2.33</td>\n",
       "      <td>Product Width (in.)</td>\n",
       "      <td>40</td>\n",
       "      <td>No. 918 Millennial Ryan heathered texture semi...</td>\n",
       "    </tr>\n",
       "    <tr>\n",
       "      <th>1428149</th>\n",
       "      <td>221473</td>\n",
       "      <td>206650</td>\n",
       "      <td>LICHTENBERG Pool Blue No. 918 Millennial Ryan ...</td>\n",
       "      <td>fine sheer curtain 63 inches</td>\n",
       "      <td>2.33</td>\n",
       "      <td>Width (in) x Length (in)</td>\n",
       "      <td>40 x 63</td>\n",
       "      <td>No. 918 Millennial Ryan heathered texture semi...</td>\n",
       "    </tr>\n",
       "    <tr>\n",
       "      <th>1428150</th>\n",
       "      <td>221473</td>\n",
       "      <td>206650</td>\n",
       "      <td>LICHTENBERG Pool Blue No. 918 Millennial Ryan ...</td>\n",
       "      <td>fine sheer curtain 63 inches</td>\n",
       "      <td>2.33</td>\n",
       "      <td>Window Treatment Product Type</td>\n",
       "      <td>Drapery Panel</td>\n",
       "      <td>No. 918 Millennial Ryan heathered texture semi...</td>\n",
       "    </tr>\n",
       "    <tr>\n",
       "      <th>1428151</th>\n",
       "      <td>221473</td>\n",
       "      <td>206650</td>\n",
       "      <td>LICHTENBERG Pool Blue No. 918 Millennial Ryan ...</td>\n",
       "      <td>fine sheer curtain 63 inches</td>\n",
       "      <td>2.33</td>\n",
       "      <td>Wrinkle resistant</td>\n",
       "      <td>No</td>\n",
       "      <td>No. 918 Millennial Ryan heathered texture semi...</td>\n",
       "    </tr>\n",
       "  </tbody>\n",
       "</table>\n",
       "<p>1428152 rows × 8 columns</p>\n",
       "</div>"
      ],
      "text/plain": [
       "             id  product_uid  \\\n",
       "0             2       100001   \n",
       "1             2       100001   \n",
       "2             2       100001   \n",
       "3             2       100001   \n",
       "4             2       100001   \n",
       "...         ...          ...   \n",
       "1428147  221473       206650   \n",
       "1428148  221473       206650   \n",
       "1428149  221473       206650   \n",
       "1428150  221473       206650   \n",
       "1428151  221473       206650   \n",
       "\n",
       "                                             product_title  \\\n",
       "0                        Simpson Strong-Tie 12-Gauge Angle   \n",
       "1                        Simpson Strong-Tie 12-Gauge Angle   \n",
       "2                        Simpson Strong-Tie 12-Gauge Angle   \n",
       "3                        Simpson Strong-Tie 12-Gauge Angle   \n",
       "4                        Simpson Strong-Tie 12-Gauge Angle   \n",
       "...                                                    ...   \n",
       "1428147  LICHTENBERG Pool Blue No. 918 Millennial Ryan ...   \n",
       "1428148  LICHTENBERG Pool Blue No. 918 Millennial Ryan ...   \n",
       "1428149  LICHTENBERG Pool Blue No. 918 Millennial Ryan ...   \n",
       "1428150  LICHTENBERG Pool Blue No. 918 Millennial Ryan ...   \n",
       "1428151  LICHTENBERG Pool Blue No. 918 Millennial Ryan ...   \n",
       "\n",
       "                          search_term  relevance  \\\n",
       "0                       angle bracket       3.00   \n",
       "1                       angle bracket       3.00   \n",
       "2                       angle bracket       3.00   \n",
       "3                       angle bracket       3.00   \n",
       "4                       angle bracket       3.00   \n",
       "...                               ...        ...   \n",
       "1428147  fine sheer curtain 63 inches       2.33   \n",
       "1428148  fine sheer curtain 63 inches       2.33   \n",
       "1428149  fine sheer curtain 63 inches       2.33   \n",
       "1428150  fine sheer curtain 63 inches       2.33   \n",
       "1428151  fine sheer curtain 63 inches       2.33   \n",
       "\n",
       "                                  name  \\\n",
       "0                             Bullet01   \n",
       "1                             Bullet02   \n",
       "2                             Bullet03   \n",
       "3                             Bullet04   \n",
       "4                             Bullet05   \n",
       "...                                ...   \n",
       "1428147           Product Weight (lb.)   \n",
       "1428148            Product Width (in.)   \n",
       "1428149       Width (in) x Length (in)   \n",
       "1428150  Window Treatment Product Type   \n",
       "1428151              Wrinkle resistant   \n",
       "\n",
       "                                                     value  \\\n",
       "0        Versatile connector for various 90Â° connectio...   \n",
       "1        Stronger than angled nailing or screw fastenin...   \n",
       "2        Help ensure joints are consistently straight a...   \n",
       "3                    Dimensions: 3 in. x 3 in. x 1-1/2 in.   \n",
       "4                                 Made from 12-Gauge steel   \n",
       "...                                                    ...   \n",
       "1428147                                               0.66   \n",
       "1428148                                                 40   \n",
       "1428149                                            40 x 63   \n",
       "1428150                                      Drapery Panel   \n",
       "1428151                                                 No   \n",
       "\n",
       "                                       product_description  \n",
       "0        Not only do angles make joints stronger, they ...  \n",
       "1        Not only do angles make joints stronger, they ...  \n",
       "2        Not only do angles make joints stronger, they ...  \n",
       "3        Not only do angles make joints stronger, they ...  \n",
       "4        Not only do angles make joints stronger, they ...  \n",
       "...                                                    ...  \n",
       "1428147  No. 918 Millennial Ryan heathered texture semi...  \n",
       "1428148  No. 918 Millennial Ryan heathered texture semi...  \n",
       "1428149  No. 918 Millennial Ryan heathered texture semi...  \n",
       "1428150  No. 918 Millennial Ryan heathered texture semi...  \n",
       "1428151  No. 918 Millennial Ryan heathered texture semi...  \n",
       "\n",
       "[1428152 rows x 8 columns]"
      ]
     },
     "execution_count": 23,
     "metadata": {},
     "output_type": "execute_result"
    }
   ],
   "source": [
    "new_datafame"
   ]
  },
  {
   "cell_type": "code",
   "execution_count": 24,
   "metadata": {
    "colab": {
     "base_uri": "https://localhost:8080/"
    },
    "id": "r--VEbFzrH27",
    "outputId": "9e6fa2f1-2114-4571-c3fd-36f520600cf6"
   },
   "outputs": [
    {
     "name": "stdout",
     "output_type": "stream",
     "text": [
      "<class 'pandas.core.frame.DataFrame'>\n",
      "Int64Index: 1428152 entries, 0 to 1428151\n",
      "Data columns (total 8 columns):\n",
      " #   Column               Non-Null Count    Dtype  \n",
      "---  ------               --------------    -----  \n",
      " 0   id                   1428152 non-null  int64  \n",
      " 1   product_uid          1428152 non-null  int64  \n",
      " 2   product_title        1428152 non-null  object \n",
      " 3   search_term          1428152 non-null  object \n",
      " 4   relevance            1428152 non-null  float64\n",
      " 5   name                 1410632 non-null  object \n",
      " 6   value                1409332 non-null  object \n",
      " 7   product_description  1428152 non-null  object \n",
      "dtypes: float64(1), int64(2), object(5)\n",
      "memory usage: 98.1+ MB\n"
     ]
    }
   ],
   "source": [
    "new_datafame.info()"
   ]
  },
  {
   "cell_type": "code",
   "execution_count": 25,
   "metadata": {
    "colab": {
     "base_uri": "https://localhost:8080/"
    },
    "id": "3cUc7evlrH27",
    "outputId": "f375908f-a634-49d1-bae9-b45f04e70541"
   },
   "outputs": [
    {
     "data": {
      "text/plain": [
       "id                         0\n",
       "product_uid                0\n",
       "product_title              0\n",
       "search_term                0\n",
       "relevance                  0\n",
       "name                   17520\n",
       "value                  18820\n",
       "product_description        0\n",
       "dtype: int64"
      ]
     },
     "execution_count": 25,
     "metadata": {},
     "output_type": "execute_result"
    }
   ],
   "source": [
    "new_datafame.isnull().sum()"
   ]
  },
  {
   "cell_type": "code",
   "execution_count": 26,
   "metadata": {
    "id": "6wgjXf2lrH28"
   },
   "outputs": [],
   "source": [
    "data=new_datafame.drop_duplicates(subset=\"product_uid\")"
   ]
  },
  {
   "cell_type": "code",
   "execution_count": 27,
   "metadata": {
    "colab": {
     "base_uri": "https://localhost:8080/",
     "height": 763
    },
    "id": "NTIgdtwIrH28",
    "outputId": "c685b44e-d0c5-4269-b7b9-0bd0b7f978df"
   },
   "outputs": [
    {
     "data": {
      "text/html": [
       "<div>\n",
       "<style scoped>\n",
       "    .dataframe tbody tr th:only-of-type {\n",
       "        vertical-align: middle;\n",
       "    }\n",
       "\n",
       "    .dataframe tbody tr th {\n",
       "        vertical-align: top;\n",
       "    }\n",
       "\n",
       "    .dataframe thead th {\n",
       "        text-align: right;\n",
       "    }\n",
       "</style>\n",
       "<table border=\"1\" class=\"dataframe\">\n",
       "  <thead>\n",
       "    <tr style=\"text-align: right;\">\n",
       "      <th></th>\n",
       "      <th>id</th>\n",
       "      <th>product_uid</th>\n",
       "      <th>product_title</th>\n",
       "      <th>search_term</th>\n",
       "      <th>relevance</th>\n",
       "      <th>name</th>\n",
       "      <th>value</th>\n",
       "      <th>product_description</th>\n",
       "    </tr>\n",
       "  </thead>\n",
       "  <tbody>\n",
       "    <tr>\n",
       "      <th>0</th>\n",
       "      <td>2</td>\n",
       "      <td>100001</td>\n",
       "      <td>Simpson Strong-Tie 12-Gauge Angle</td>\n",
       "      <td>angle bracket</td>\n",
       "      <td>3.00</td>\n",
       "      <td>Bullet01</td>\n",
       "      <td>Versatile connector for various 90Â° connectio...</td>\n",
       "      <td>Not only do angles make joints stronger, they ...</td>\n",
       "    </tr>\n",
       "    <tr>\n",
       "      <th>30</th>\n",
       "      <td>9</td>\n",
       "      <td>100002</td>\n",
       "      <td>BEHR Premium Textured DeckOver 1-gal. #SC-141 ...</td>\n",
       "      <td>deck over</td>\n",
       "      <td>3.00</td>\n",
       "      <td>Application Method</td>\n",
       "      <td>Brush,Roller,Spray</td>\n",
       "      <td>BEHR Premium Textured DECKOVER is an innovativ...</td>\n",
       "    </tr>\n",
       "    <tr>\n",
       "      <th>65</th>\n",
       "      <td>16</td>\n",
       "      <td>100005</td>\n",
       "      <td>Delta Vero 1-Handle Shower Only Faucet Trim Ki...</td>\n",
       "      <td>rain shower head</td>\n",
       "      <td>2.33</td>\n",
       "      <td>Bath Faucet Type</td>\n",
       "      <td>Combo Tub and Shower</td>\n",
       "      <td>Update your bathroom with the Delta Vero Singl...</td>\n",
       "    </tr>\n",
       "    <tr>\n",
       "      <th>115</th>\n",
       "      <td>18</td>\n",
       "      <td>100006</td>\n",
       "      <td>Whirlpool 1.9 cu. ft. Over the Range Convectio...</td>\n",
       "      <td>convection otr</td>\n",
       "      <td>3.00</td>\n",
       "      <td>Appliance Type</td>\n",
       "      <td>Over the Range Microwave</td>\n",
       "      <td>Achieving delicious results is almost effortle...</td>\n",
       "    </tr>\n",
       "    <tr>\n",
       "      <th>259</th>\n",
       "      <td>23</td>\n",
       "      <td>100007</td>\n",
       "      <td>Lithonia Lighting Quantum 2-Light Black LED Em...</td>\n",
       "      <td>emergency light</td>\n",
       "      <td>2.67</td>\n",
       "      <td>Battery Power Type</td>\n",
       "      <td>Ni-Cad</td>\n",
       "      <td>The Quantum Adjustable 2-Light LED Black Emerg...</td>\n",
       "    </tr>\n",
       "    <tr>\n",
       "      <th>...</th>\n",
       "      <td>...</td>\n",
       "      <td>...</td>\n",
       "      <td>...</td>\n",
       "      <td>...</td>\n",
       "      <td>...</td>\n",
       "      <td>...</td>\n",
       "      <td>...</td>\n",
       "      <td>...</td>\n",
       "    </tr>\n",
       "    <tr>\n",
       "      <th>1427992</th>\n",
       "      <td>221457</td>\n",
       "      <td>206638</td>\n",
       "      <td>Atlantic Windowpane 576 CD or 192 DVD Blu-Ray ...</td>\n",
       "      <td>tv riser glass</td>\n",
       "      <td>1.00</td>\n",
       "      <td>Assembled Depth (in.)</td>\n",
       "      <td>9.5 in</td>\n",
       "      <td>Atlantic, Inc. 94835722 Uniquely designed for ...</td>\n",
       "    </tr>\n",
       "    <tr>\n",
       "      <th>1428026</th>\n",
       "      <td>221458</td>\n",
       "      <td>206639</td>\n",
       "      <td>Philips 40-Watt Halogen R20 Flood Light Bulb (...</td>\n",
       "      <td>r20 halogen light</td>\n",
       "      <td>3.00</td>\n",
       "      <td>Actual Color Temperature (K)</td>\n",
       "      <td>2700</td>\n",
       "      <td>Philips Energy Advantage lamps use less energy...</td>\n",
       "    </tr>\n",
       "    <tr>\n",
       "      <th>1428057</th>\n",
       "      <td>221463</td>\n",
       "      <td>206641</td>\n",
       "      <td>Schlage Camelot In-Active Aged Bronze Handlese...</td>\n",
       "      <td>schlage lock siena half dummy knob with</td>\n",
       "      <td>2.33</td>\n",
       "      <td>Application Type</td>\n",
       "      <td>Entry</td>\n",
       "      <td>The Schlage Camelot In-Active Aged Bronze Hand...</td>\n",
       "    </tr>\n",
       "    <tr>\n",
       "      <th>1428105</th>\n",
       "      <td>221471</td>\n",
       "      <td>206648</td>\n",
       "      <td>Plastec 11 in. x 24 in. Rose Garden Wall Decor...</td>\n",
       "      <td>zen garden  decor</td>\n",
       "      <td>3.00</td>\n",
       "      <td>Bullet01</td>\n",
       "      <td>Indoor and outdoor use</td>\n",
       "      <td>The Rose Garden is inspired by the popular ear...</td>\n",
       "    </tr>\n",
       "    <tr>\n",
       "      <th>1428119</th>\n",
       "      <td>221473</td>\n",
       "      <td>206650</td>\n",
       "      <td>LICHTENBERG Pool Blue No. 918 Millennial Ryan ...</td>\n",
       "      <td>fine sheer curtain 63 inches</td>\n",
       "      <td>2.33</td>\n",
       "      <td>Assembled Depth (in.)</td>\n",
       "      <td>.1 in</td>\n",
       "      <td>No. 918 Millennial Ryan heathered texture semi...</td>\n",
       "    </tr>\n",
       "  </tbody>\n",
       "</table>\n",
       "<p>54667 rows × 8 columns</p>\n",
       "</div>"
      ],
      "text/plain": [
       "             id  product_uid  \\\n",
       "0             2       100001   \n",
       "30            9       100002   \n",
       "65           16       100005   \n",
       "115          18       100006   \n",
       "259          23       100007   \n",
       "...         ...          ...   \n",
       "1427992  221457       206638   \n",
       "1428026  221458       206639   \n",
       "1428057  221463       206641   \n",
       "1428105  221471       206648   \n",
       "1428119  221473       206650   \n",
       "\n",
       "                                             product_title  \\\n",
       "0                        Simpson Strong-Tie 12-Gauge Angle   \n",
       "30       BEHR Premium Textured DeckOver 1-gal. #SC-141 ...   \n",
       "65       Delta Vero 1-Handle Shower Only Faucet Trim Ki...   \n",
       "115      Whirlpool 1.9 cu. ft. Over the Range Convectio...   \n",
       "259      Lithonia Lighting Quantum 2-Light Black LED Em...   \n",
       "...                                                    ...   \n",
       "1427992  Atlantic Windowpane 576 CD or 192 DVD Blu-Ray ...   \n",
       "1428026  Philips 40-Watt Halogen R20 Flood Light Bulb (...   \n",
       "1428057  Schlage Camelot In-Active Aged Bronze Handlese...   \n",
       "1428105  Plastec 11 in. x 24 in. Rose Garden Wall Decor...   \n",
       "1428119  LICHTENBERG Pool Blue No. 918 Millennial Ryan ...   \n",
       "\n",
       "                                     search_term  relevance  \\\n",
       "0                                  angle bracket       3.00   \n",
       "30                                     deck over       3.00   \n",
       "65                              rain shower head       2.33   \n",
       "115                               convection otr       3.00   \n",
       "259                              emergency light       2.67   \n",
       "...                                          ...        ...   \n",
       "1427992                           tv riser glass       1.00   \n",
       "1428026                        r20 halogen light       3.00   \n",
       "1428057  schlage lock siena half dummy knob with       2.33   \n",
       "1428105                        zen garden  decor       3.00   \n",
       "1428119             fine sheer curtain 63 inches       2.33   \n",
       "\n",
       "                                 name  \\\n",
       "0                            Bullet01   \n",
       "30                 Application Method   \n",
       "65                   Bath Faucet Type   \n",
       "115                    Appliance Type   \n",
       "259                Battery Power Type   \n",
       "...                               ...   \n",
       "1427992         Assembled Depth (in.)   \n",
       "1428026  Actual Color Temperature (K)   \n",
       "1428057              Application Type   \n",
       "1428105                      Bullet01   \n",
       "1428119         Assembled Depth (in.)   \n",
       "\n",
       "                                                     value  \\\n",
       "0        Versatile connector for various 90Â° connectio...   \n",
       "30                                      Brush,Roller,Spray   \n",
       "65                                    Combo Tub and Shower   \n",
       "115                               Over the Range Microwave   \n",
       "259                                                 Ni-Cad   \n",
       "...                                                    ...   \n",
       "1427992                                             9.5 in   \n",
       "1428026                                               2700   \n",
       "1428057                                              Entry   \n",
       "1428105                             Indoor and outdoor use   \n",
       "1428119                                              .1 in   \n",
       "\n",
       "                                       product_description  \n",
       "0        Not only do angles make joints stronger, they ...  \n",
       "30       BEHR Premium Textured DECKOVER is an innovativ...  \n",
       "65       Update your bathroom with the Delta Vero Singl...  \n",
       "115      Achieving delicious results is almost effortle...  \n",
       "259      The Quantum Adjustable 2-Light LED Black Emerg...  \n",
       "...                                                    ...  \n",
       "1427992  Atlantic, Inc. 94835722 Uniquely designed for ...  \n",
       "1428026  Philips Energy Advantage lamps use less energy...  \n",
       "1428057  The Schlage Camelot In-Active Aged Bronze Hand...  \n",
       "1428105  The Rose Garden is inspired by the popular ear...  \n",
       "1428119  No. 918 Millennial Ryan heathered texture semi...  \n",
       "\n",
       "[54667 rows x 8 columns]"
      ]
     },
     "execution_count": 27,
     "metadata": {},
     "output_type": "execute_result"
    }
   ],
   "source": [
    "data"
   ]
  },
  {
   "cell_type": "code",
   "execution_count": 28,
   "metadata": {
    "colab": {
     "base_uri": "https://localhost:8080/"
    },
    "id": "JKqhxVlprH28",
    "outputId": "d60cfa63-0f34-444d-e411-82ad398bd105"
   },
   "outputs": [
    {
     "data": {
      "text/plain": [
       "id                         0\n",
       "product_uid                0\n",
       "product_title              0\n",
       "search_term                0\n",
       "relevance                  0\n",
       "name                   16263\n",
       "value                  16276\n",
       "product_description        0\n",
       "dtype: int64"
      ]
     },
     "execution_count": 28,
     "metadata": {},
     "output_type": "execute_result"
    }
   ],
   "source": [
    "data.isnull().sum()"
   ]
  },
  {
   "cell_type": "code",
   "execution_count": 29,
   "metadata": {
    "id": "La8KUxxArH29"
   },
   "outputs": [],
   "source": [
    "data = data.replace(np.nan,'',regex=True)"
   ]
  },
  {
   "cell_type": "code",
   "execution_count": 30,
   "metadata": {
    "colab": {
     "base_uri": "https://localhost:8080/",
     "height": 763
    },
    "id": "xVIM-zYMrH29",
    "outputId": "3265d77c-367d-4fd5-ec7c-63396dbd13ad"
   },
   "outputs": [
    {
     "data": {
      "text/html": [
       "<div>\n",
       "<style scoped>\n",
       "    .dataframe tbody tr th:only-of-type {\n",
       "        vertical-align: middle;\n",
       "    }\n",
       "\n",
       "    .dataframe tbody tr th {\n",
       "        vertical-align: top;\n",
       "    }\n",
       "\n",
       "    .dataframe thead th {\n",
       "        text-align: right;\n",
       "    }\n",
       "</style>\n",
       "<table border=\"1\" class=\"dataframe\">\n",
       "  <thead>\n",
       "    <tr style=\"text-align: right;\">\n",
       "      <th></th>\n",
       "      <th>id</th>\n",
       "      <th>product_uid</th>\n",
       "      <th>product_title</th>\n",
       "      <th>search_term</th>\n",
       "      <th>relevance</th>\n",
       "      <th>name</th>\n",
       "      <th>value</th>\n",
       "      <th>product_description</th>\n",
       "    </tr>\n",
       "  </thead>\n",
       "  <tbody>\n",
       "    <tr>\n",
       "      <th>0</th>\n",
       "      <td>2</td>\n",
       "      <td>100001</td>\n",
       "      <td>Simpson Strong-Tie 12-Gauge Angle</td>\n",
       "      <td>angle bracket</td>\n",
       "      <td>3.00</td>\n",
       "      <td>Bullet01</td>\n",
       "      <td>Versatile connector for various 90Â° connectio...</td>\n",
       "      <td>Not only do angles make joints stronger, they ...</td>\n",
       "    </tr>\n",
       "    <tr>\n",
       "      <th>30</th>\n",
       "      <td>9</td>\n",
       "      <td>100002</td>\n",
       "      <td>BEHR Premium Textured DeckOver 1-gal. #SC-141 ...</td>\n",
       "      <td>deck over</td>\n",
       "      <td>3.00</td>\n",
       "      <td>Application Method</td>\n",
       "      <td>Brush,Roller,Spray</td>\n",
       "      <td>BEHR Premium Textured DECKOVER is an innovativ...</td>\n",
       "    </tr>\n",
       "    <tr>\n",
       "      <th>65</th>\n",
       "      <td>16</td>\n",
       "      <td>100005</td>\n",
       "      <td>Delta Vero 1-Handle Shower Only Faucet Trim Ki...</td>\n",
       "      <td>rain shower head</td>\n",
       "      <td>2.33</td>\n",
       "      <td>Bath Faucet Type</td>\n",
       "      <td>Combo Tub and Shower</td>\n",
       "      <td>Update your bathroom with the Delta Vero Singl...</td>\n",
       "    </tr>\n",
       "    <tr>\n",
       "      <th>115</th>\n",
       "      <td>18</td>\n",
       "      <td>100006</td>\n",
       "      <td>Whirlpool 1.9 cu. ft. Over the Range Convectio...</td>\n",
       "      <td>convection otr</td>\n",
       "      <td>3.00</td>\n",
       "      <td>Appliance Type</td>\n",
       "      <td>Over the Range Microwave</td>\n",
       "      <td>Achieving delicious results is almost effortle...</td>\n",
       "    </tr>\n",
       "    <tr>\n",
       "      <th>259</th>\n",
       "      <td>23</td>\n",
       "      <td>100007</td>\n",
       "      <td>Lithonia Lighting Quantum 2-Light Black LED Em...</td>\n",
       "      <td>emergency light</td>\n",
       "      <td>2.67</td>\n",
       "      <td>Battery Power Type</td>\n",
       "      <td>Ni-Cad</td>\n",
       "      <td>The Quantum Adjustable 2-Light LED Black Emerg...</td>\n",
       "    </tr>\n",
       "    <tr>\n",
       "      <th>...</th>\n",
       "      <td>...</td>\n",
       "      <td>...</td>\n",
       "      <td>...</td>\n",
       "      <td>...</td>\n",
       "      <td>...</td>\n",
       "      <td>...</td>\n",
       "      <td>...</td>\n",
       "      <td>...</td>\n",
       "    </tr>\n",
       "    <tr>\n",
       "      <th>1427992</th>\n",
       "      <td>221457</td>\n",
       "      <td>206638</td>\n",
       "      <td>Atlantic Windowpane 576 CD or 192 DVD Blu-Ray ...</td>\n",
       "      <td>tv riser glass</td>\n",
       "      <td>1.00</td>\n",
       "      <td>Assembled Depth (in.)</td>\n",
       "      <td>9.5 in</td>\n",
       "      <td>Atlantic, Inc. 94835722 Uniquely designed for ...</td>\n",
       "    </tr>\n",
       "    <tr>\n",
       "      <th>1428026</th>\n",
       "      <td>221458</td>\n",
       "      <td>206639</td>\n",
       "      <td>Philips 40-Watt Halogen R20 Flood Light Bulb (...</td>\n",
       "      <td>r20 halogen light</td>\n",
       "      <td>3.00</td>\n",
       "      <td>Actual Color Temperature (K)</td>\n",
       "      <td>2700</td>\n",
       "      <td>Philips Energy Advantage lamps use less energy...</td>\n",
       "    </tr>\n",
       "    <tr>\n",
       "      <th>1428057</th>\n",
       "      <td>221463</td>\n",
       "      <td>206641</td>\n",
       "      <td>Schlage Camelot In-Active Aged Bronze Handlese...</td>\n",
       "      <td>schlage lock siena half dummy knob with</td>\n",
       "      <td>2.33</td>\n",
       "      <td>Application Type</td>\n",
       "      <td>Entry</td>\n",
       "      <td>The Schlage Camelot In-Active Aged Bronze Hand...</td>\n",
       "    </tr>\n",
       "    <tr>\n",
       "      <th>1428105</th>\n",
       "      <td>221471</td>\n",
       "      <td>206648</td>\n",
       "      <td>Plastec 11 in. x 24 in. Rose Garden Wall Decor...</td>\n",
       "      <td>zen garden  decor</td>\n",
       "      <td>3.00</td>\n",
       "      <td>Bullet01</td>\n",
       "      <td>Indoor and outdoor use</td>\n",
       "      <td>The Rose Garden is inspired by the popular ear...</td>\n",
       "    </tr>\n",
       "    <tr>\n",
       "      <th>1428119</th>\n",
       "      <td>221473</td>\n",
       "      <td>206650</td>\n",
       "      <td>LICHTENBERG Pool Blue No. 918 Millennial Ryan ...</td>\n",
       "      <td>fine sheer curtain 63 inches</td>\n",
       "      <td>2.33</td>\n",
       "      <td>Assembled Depth (in.)</td>\n",
       "      <td>.1 in</td>\n",
       "      <td>No. 918 Millennial Ryan heathered texture semi...</td>\n",
       "    </tr>\n",
       "  </tbody>\n",
       "</table>\n",
       "<p>54667 rows × 8 columns</p>\n",
       "</div>"
      ],
      "text/plain": [
       "             id  product_uid  \\\n",
       "0             2       100001   \n",
       "30            9       100002   \n",
       "65           16       100005   \n",
       "115          18       100006   \n",
       "259          23       100007   \n",
       "...         ...          ...   \n",
       "1427992  221457       206638   \n",
       "1428026  221458       206639   \n",
       "1428057  221463       206641   \n",
       "1428105  221471       206648   \n",
       "1428119  221473       206650   \n",
       "\n",
       "                                             product_title  \\\n",
       "0                        Simpson Strong-Tie 12-Gauge Angle   \n",
       "30       BEHR Premium Textured DeckOver 1-gal. #SC-141 ...   \n",
       "65       Delta Vero 1-Handle Shower Only Faucet Trim Ki...   \n",
       "115      Whirlpool 1.9 cu. ft. Over the Range Convectio...   \n",
       "259      Lithonia Lighting Quantum 2-Light Black LED Em...   \n",
       "...                                                    ...   \n",
       "1427992  Atlantic Windowpane 576 CD or 192 DVD Blu-Ray ...   \n",
       "1428026  Philips 40-Watt Halogen R20 Flood Light Bulb (...   \n",
       "1428057  Schlage Camelot In-Active Aged Bronze Handlese...   \n",
       "1428105  Plastec 11 in. x 24 in. Rose Garden Wall Decor...   \n",
       "1428119  LICHTENBERG Pool Blue No. 918 Millennial Ryan ...   \n",
       "\n",
       "                                     search_term  relevance  \\\n",
       "0                                  angle bracket       3.00   \n",
       "30                                     deck over       3.00   \n",
       "65                              rain shower head       2.33   \n",
       "115                               convection otr       3.00   \n",
       "259                              emergency light       2.67   \n",
       "...                                          ...        ...   \n",
       "1427992                           tv riser glass       1.00   \n",
       "1428026                        r20 halogen light       3.00   \n",
       "1428057  schlage lock siena half dummy knob with       2.33   \n",
       "1428105                        zen garden  decor       3.00   \n",
       "1428119             fine sheer curtain 63 inches       2.33   \n",
       "\n",
       "                                 name  \\\n",
       "0                            Bullet01   \n",
       "30                 Application Method   \n",
       "65                   Bath Faucet Type   \n",
       "115                    Appliance Type   \n",
       "259                Battery Power Type   \n",
       "...                               ...   \n",
       "1427992         Assembled Depth (in.)   \n",
       "1428026  Actual Color Temperature (K)   \n",
       "1428057              Application Type   \n",
       "1428105                      Bullet01   \n",
       "1428119         Assembled Depth (in.)   \n",
       "\n",
       "                                                     value  \\\n",
       "0        Versatile connector for various 90Â° connectio...   \n",
       "30                                      Brush,Roller,Spray   \n",
       "65                                    Combo Tub and Shower   \n",
       "115                               Over the Range Microwave   \n",
       "259                                                 Ni-Cad   \n",
       "...                                                    ...   \n",
       "1427992                                             9.5 in   \n",
       "1428026                                               2700   \n",
       "1428057                                              Entry   \n",
       "1428105                             Indoor and outdoor use   \n",
       "1428119                                              .1 in   \n",
       "\n",
       "                                       product_description  \n",
       "0        Not only do angles make joints stronger, they ...  \n",
       "30       BEHR Premium Textured DECKOVER is an innovativ...  \n",
       "65       Update your bathroom with the Delta Vero Singl...  \n",
       "115      Achieving delicious results is almost effortle...  \n",
       "259      The Quantum Adjustable 2-Light LED Black Emerg...  \n",
       "...                                                    ...  \n",
       "1427992  Atlantic, Inc. 94835722 Uniquely designed for ...  \n",
       "1428026  Philips Energy Advantage lamps use less energy...  \n",
       "1428057  The Schlage Camelot In-Active Aged Bronze Hand...  \n",
       "1428105  The Rose Garden is inspired by the popular ear...  \n",
       "1428119  No. 918 Millennial Ryan heathered texture semi...  \n",
       "\n",
       "[54667 rows x 8 columns]"
      ]
     },
     "execution_count": 30,
     "metadata": {},
     "output_type": "execute_result"
    }
   ],
   "source": [
    "data"
   ]
  },
  {
   "cell_type": "code",
   "execution_count": 33,
   "metadata": {
    "id": "cUDQ0SCkrH2-"
   },
   "outputs": [],
   "source": [
    "y = data['relevance']\n",
    "x = data.drop(['id','relevance'],axis=1)"
   ]
  },
  {
   "cell_type": "code",
   "execution_count": 34,
   "metadata": {
    "id": "em---TmbrH3A"
   },
   "outputs": [],
   "source": [
    "X_train,X_test,y_train,y_test = train_test_split(x,y,test_size=0.3,random_state=42,shuffle=True,stratify=y)"
   ]
  },
  {
   "cell_type": "code",
   "execution_count": 35,
   "metadata": {
    "colab": {
     "base_uri": "https://localhost:8080/"
    },
    "id": "hFqAl6serH3A",
    "outputId": "d72f1ab8-bf75-4bb7-d665-9d26260c1c2b"
   },
   "outputs": [
    {
     "name": "stdout",
     "output_type": "stream",
     "text": [
      "X_train : (38266, 6)\n",
      "Y_train : (38266,)\n",
      "X_test : (16401, 6)\n",
      "Y_test : (16401,)\n"
     ]
    }
   ],
   "source": [
    "print('X_train :',X_train.shape)\n",
    "print('Y_train :',y_train.shape)\n",
    "print('X_test :',X_test.shape)\n",
    "print('Y_test :',y_test.shape)"
   ]
  },
  {
   "cell_type": "markdown",
   "metadata": {
    "id": "lXMNeWI5rH3B"
   },
   "source": [
    "* Product title"
   ]
  },
  {
   "cell_type": "code",
   "execution_count": 36,
   "metadata": {
    "colab": {
     "base_uri": "https://localhost:8080/"
    },
    "id": "rg03NH4QrH3B",
    "outputId": "8d194675-80ca-456c-dcda-a072d0e730e0"
   },
   "outputs": [
    {
     "name": "stdout",
     "output_type": "stream",
     "text": [
      "(38266, 5000)\n",
      "(16401, 5000)\n"
     ]
    }
   ],
   "source": [
    "vectorizer_title=TfidfVectorizer(min_df=1,ngram_range=(1,4),max_features=5000)\n",
    "vectorizer_title.fit(X_train['product_title'].values)\n",
    "feature_1_title=list(vectorizer_title.get_feature_names())\n",
    "\n",
    "X_train_title =vectorizer_title.transform(X_train['product_title'].values)\n",
    "X_test_title =vectorizer_title.transform(X_test['product_title'].values)\n",
    "print(X_train_title.shape)\n",
    "print(X_test_title.shape)"
   ]
  },
  {
   "cell_type": "markdown",
   "metadata": {
    "id": "bQJXuXBFrH3C"
   },
   "source": [
    "* Search Term"
   ]
  },
  {
   "cell_type": "code",
   "execution_count": 37,
   "metadata": {
    "colab": {
     "base_uri": "https://localhost:8080/"
    },
    "id": "_oIYRVc5rH3C",
    "outputId": "791637fc-95d9-4fa4-ac31-b5d2c4655eb8"
   },
   "outputs": [
    {
     "name": "stdout",
     "output_type": "stream",
     "text": [
      "(38266, 5000)\n",
      "(16401, 5000)\n"
     ]
    }
   ],
   "source": [
    "vectorizer_search_term=TfidfVectorizer(min_df=1,ngram_range=(1,4),max_features=5000)\n",
    "vectorizer_search_term.fit(X_train['search_term'].values)\n",
    "feature_search_term=list(vectorizer_search_term.get_feature_names())\n",
    "\n",
    "X_train_search_term =vectorizer_search_term.transform(X_train['search_term'].values)\n",
    "X_test_search_term =vectorizer_search_term.transform(X_test['search_term'].values)\n",
    "print(X_train_search_term.shape)\n",
    "print(X_test_search_term.shape)"
   ]
  },
  {
   "cell_type": "markdown",
   "metadata": {
    "id": "qq8Uw9tprH3D"
   },
   "source": [
    "* Name"
   ]
  },
  {
   "cell_type": "code",
   "execution_count": 38,
   "metadata": {
    "colab": {
     "base_uri": "https://localhost:8080/"
    },
    "id": "AhEAUFtsrH3D",
    "outputId": "d8b6cc3c-35f4-42fe-9d50-efeae41ba7cf"
   },
   "outputs": [
    {
     "name": "stdout",
     "output_type": "stream",
     "text": [
      "(38266, 1137)\n",
      "(16401, 1137)\n"
     ]
    }
   ],
   "source": [
    "vectorizer_name = TfidfVectorizer(min_df=1,ngram_range=(1,4),max_features=5000)\n",
    "vectorizer_name.fit(X_train['name'].values)\n",
    "feature_name = list(vectorizer_name.get_feature_names())\n",
    "\n",
    "X_train_name =vectorizer_name.transform(X_train['name'].values)\n",
    "X_test_name =vectorizer_name.transform(X_test['name'].values)\n",
    "print(X_train_name.shape)\n",
    "print(X_test_name.shape)\n"
   ]
  },
  {
   "cell_type": "markdown",
   "metadata": {
    "id": "kS_LDWC6rH3D"
   },
   "source": [
    "* Value"
   ]
  },
  {
   "cell_type": "code",
   "execution_count": 39,
   "metadata": {
    "colab": {
     "base_uri": "https://localhost:8080/"
    },
    "id": "ZOpVEBHprH3E",
    "outputId": "fbb54550-4558-4507-c16f-0cf891cbd4dd",
    "scrolled": true
   },
   "outputs": [
    {
     "name": "stdout",
     "output_type": "stream",
     "text": [
      "(38266, 5000)\n",
      "(16401, 5000)\n"
     ]
    }
   ],
   "source": [
    "vectorizer_value = TfidfVectorizer(min_df=1,ngram_range=(1,4),max_features=5000)\n",
    "vectorizer_value.fit(X_train['value'].values)\n",
    "feature_value = list(vectorizer_value.get_feature_names())\n",
    "\n",
    "X_train_value =vectorizer_value.transform(X_train['value'].values)\n",
    "X_test_value =vectorizer_value.transform(X_test['value'].values)\n",
    "print(X_train_value.shape)\n",
    "print(X_test_value.shape)\n"
   ]
  },
  {
   "cell_type": "markdown",
   "metadata": {
    "id": "fiEUchkkrH3E"
   },
   "source": [
    "* Description"
   ]
  },
  {
   "cell_type": "code",
   "execution_count": 40,
   "metadata": {
    "colab": {
     "base_uri": "https://localhost:8080/"
    },
    "id": "Lc6sz1i0rH3F",
    "outputId": "4798e477-45bc-4b3d-e0a4-a9cad8b77a9a"
   },
   "outputs": [
    {
     "name": "stdout",
     "output_type": "stream",
     "text": [
      "(38266, 5000)\n",
      "(16401, 5000)\n"
     ]
    }
   ],
   "source": [
    "vectorizer_descrip = TfidfVectorizer(min_df=1,ngram_range=(1,4),max_features=5000)\n",
    "vectorizer_descrip.fit(X_train['product_description'].values)\n",
    "feature_descrip = list(vectorizer_descrip.get_feature_names())\n",
    "\n",
    "X_train_descrip =vectorizer_descrip.transform(X_train['product_description'].values)\n",
    "X_test_descrip =vectorizer_descrip.transform(X_test['product_description'].values)\n",
    "print(X_train_descrip.shape)\n",
    "print(X_test_descrip.shape)\n"
   ]
  },
  {
   "cell_type": "code",
   "execution_count": 41,
   "metadata": {
    "id": "Z_k51x4trH3F"
   },
   "outputs": [],
   "source": [
    "X_train_tfidf = hstack((X_train_title,X_train_search_term,X_train_value,X_train_name,X_train_descrip)).tocsr()"
   ]
  },
  {
   "cell_type": "code",
   "execution_count": 42,
   "metadata": {
    "id": "FbVVmmmqrH3G"
   },
   "outputs": [],
   "source": [
    "X_test_tfidf = hstack((X_test_title,X_test_search_term,X_test_value,X_test_name,X_test_descrip)).tocsr()"
   ]
  },
  {
   "cell_type": "code",
   "execution_count": 43,
   "metadata": {
    "colab": {
     "base_uri": "https://localhost:8080/"
    },
    "id": "dn51kVPXrH3G",
    "outputId": "ba9eaf01-51cc-46b4-f11d-91fa28862dd5"
   },
   "outputs": [
    {
     "name": "stdout",
     "output_type": "stream",
     "text": [
      "(38266, 21137)\n",
      "(16401, 21137)\n"
     ]
    }
   ],
   "source": [
    "print(X_train_tfidf.shape)\n",
    "print(X_test_tfidf.shape)"
   ]
  },
  {
   "cell_type": "code",
   "execution_count": 44,
   "metadata": {
    "colab": {
     "base_uri": "https://localhost:8080/"
    },
    "id": "GTyrSGxDrH3G",
    "outputId": "f12f1f01-5369-41f0-9436-e36d99ca6c13"
   },
   "outputs": [
    {
     "name": "stdout",
     "output_type": "stream",
     "text": [
      "(38266,)\n",
      "(16401,)\n"
     ]
    }
   ],
   "source": [
    "print(y_train.shape)\n",
    "print(y_test.shape)"
   ]
  },
  {
   "cell_type": "code",
   "execution_count": null,
   "metadata": {
    "colab": {
     "base_uri": "https://localhost:8080/"
    },
    "id": "1UZjX7rsrH3H",
    "outputId": "92ccab98-502f-41b0-e329-a834d214fca4"
   },
   "outputs": [],
   "source": []
  },
  {
   "cell_type": "markdown",
   "metadata": {
    "id": "Zz0lcMaU2VXs"
   },
   "source": [
    "## Ridge"
   ]
  },
  {
   "cell_type": "code",
   "execution_count": 46,
   "metadata": {
    "colab": {
     "base_uri": "https://localhost:8080/"
    },
    "id": "jP8V1x522Lw5",
    "outputId": "e4227615-d6c4-4c26-cac1-36d5634a98e3"
   },
   "outputs": [
    {
     "name": "stdout",
     "output_type": "stream",
     "text": [
      "Ridge RMSE: 0.5219\n"
     ]
    }
   ],
   "source": [
    "rg= Ridge()\n",
    "rg.fit(X_train_tfidf, y_train)\n",
    "y_pred_rd = rg.predict(X_test_tfidf)\n",
    "rg_mse = mean_squared_error(y_pred_rd, y_test)\n",
    "rg_rmse = np.sqrt(rg_mse)\n",
    "print('Ridge RMSE: %.4f' % rg_rmse)"
   ]
  },
  {
   "cell_type": "markdown",
   "metadata": {
    "id": "9EF62xQavSmT"
   },
   "source": [
    "## Random Forest"
   ]
  },
  {
   "cell_type": "code",
   "execution_count": 48,
   "metadata": {
    "colab": {
     "base_uri": "https://localhost:8080/"
    },
    "id": "qj4oJZAevGx1",
    "outputId": "4d6427c3-7e3a-4e4c-ad3c-99e9fa37ec41"
   },
   "outputs": [
    {
     "name": "stdout",
     "output_type": "stream",
     "text": [
      "RandomForest RMSE: 0.5244\n"
     ]
    }
   ],
   "source": [
    "random_forest = RandomForestRegressor(n_estimators=100, max_depth=6, random_state=0)\n",
    "random_forest.fit(X_train_tfidf, y_train)\n",
    "y_pred_rf = random_forest.predict(X_test_tfidf)\n",
    "rf_mse_ = mean_squared_error(y_pred_rf, y_test)\n",
    "rf_rmse_ = np.sqrt(rf_mse_)\n",
    "print('RandomForest RMSE: %.4f' % rf_rmse_)"
   ]
  },
  {
   "cell_type": "markdown",
   "metadata": {
    "id": "7siiC8Ahv2eN"
   },
   "source": [
    "## GBDT"
   ]
  },
  {
   "cell_type": "code",
   "execution_count": 49,
   "metadata": {
    "colab": {
     "base_uri": "https://localhost:8080/"
    },
    "id": "bIDuB3KAvqRt",
    "outputId": "9fa73151-7ddb-49ea-803a-6b0e245e2421"
   },
   "outputs": [
    {
     "name": "stdout",
     "output_type": "stream",
     "text": [
      "Gradient boosting RMSE: 0.5264\n"
     ]
    }
   ],
   "source": [
    "gbt = GradientBoostingRegressor(n_estimators=100, learning_rate=0.1, max_depth=1, random_state=0, loss='ls')\n",
    "gbt.fit(X_train_tfidf, y_train)\n",
    "y_pred_gbdt = gbt.predict(X_test_tfidf)\n",
    "est_mse = mean_squared_error(y_pred_gbdt, y_test)\n",
    "est_rmse = np.sqrt(est_mse)\n",
    "print('Gradient boosting RMSE: %.4f' % est_rmse)"
   ]
  },
  {
   "cell_type": "markdown",
   "metadata": {
    "id": "euWsbbHxv0Ku"
   },
   "source": [
    "## XGBoost"
   ]
  },
  {
   "cell_type": "code",
   "execution_count": 50,
   "metadata": {
    "colab": {
     "base_uri": "https://localhost:8080/"
    },
    "id": "8vRRBwwGvqXu",
    "outputId": "831665e7-240f-4821-b3c6-3301eced44a8"
   },
   "outputs": [
    {
     "name": "stdout",
     "output_type": "stream",
     "text": [
      "Xgboost RMSE: 0.5144\n"
     ]
    }
   ],
   "source": [
    "xgb = xgboost.XGBRegressor(n_estimators=100, learning_rate=0.1, max_depth=7)\n",
    "xgb.fit(X_train_tfidf, y_train)\n",
    "y_pred_xgb = xgb.predict(X_test_tfidf)\n",
    "xgb_mse = mean_squared_error(y_pred_xgb, y_test)\n",
    "xgb_rmse = np.sqrt(xgb_mse)\n",
    "print('Xgboost RMSE: %.4f' % xgb_rmse)"
   ]
  },
  {
   "cell_type": "code",
   "execution_count": null,
   "metadata": {
    "id": "FZYv7eqB7qOU"
   },
   "outputs": [],
   "source": []
  },
  {
   "cell_type": "code",
   "execution_count": 51,
   "metadata": {},
   "outputs": [],
   "source": [
    "from prettytable import PrettyTable"
   ]
  },
  {
   "cell_type": "code",
   "execution_count": 53,
   "metadata": {},
   "outputs": [
    {
     "name": "stdout",
     "output_type": "stream",
     "text": [
      "+---------------+--------+\n",
      "|     Model     |  RMSE  |\n",
      "+---------------+--------+\n",
      "|     Ridge     | 0.5219 |\n",
      "|    XGboost    | 0.5144 |\n",
      "| Random Forest | 0.5244 |\n",
      "|      GBDT     | 0.5264 |\n",
      "+---------------+--------+\n"
     ]
    }
   ],
   "source": [
    "my_table = PrettyTable(['Model','RMSE'])\n",
    "my_table.add_row(['Ridge','0.5219'])\n",
    "my_table.add_row(['XGboost','0.5144'])\n",
    "my_table.add_row(['Random Forest','0.5244'])\n",
    "my_table.add_row(['GBDT','0.5264'])\n",
    "print(my_table)"
   ]
  },
  {
   "cell_type": "code",
   "execution_count": null,
   "metadata": {},
   "outputs": [],
   "source": []
  }
 ],
 "metadata": {
  "colab": {
   "collapsed_sections": [],
   "provenance": []
  },
  "kernelspec": {
   "display_name": "Python 3",
   "language": "python",
   "name": "python3"
  },
  "language_info": {
   "codemirror_mode": {
    "name": "ipython",
    "version": 3
   },
   "file_extension": ".py",
   "mimetype": "text/x-python",
   "name": "python",
   "nbconvert_exporter": "python",
   "pygments_lexer": "ipython3",
   "version": "3.6.5"
  }
 },
 "nbformat": 4,
 "nbformat_minor": 1
}
