{
 "cells": [
  {
   "cell_type": "code",
   "execution_count": 1,
   "metadata": {},
   "outputs": [
    {
     "name": "stdout",
     "output_type": "stream",
     "text": [
      "[nltk_data] Downloading package stopwords to\n",
      "[nltk_data]     C:\\Users\\SAPEKSHA\\AppData\\Roaming\\nltk_data...\n",
      "[nltk_data]   Package stopwords is already up-to-date!\n"
     ]
    }
   ],
   "source": [
    "import pandas as pd\n",
    "import numpy as np\n",
    "import matplotlib.pyplot as plt\n",
    "import seaborn as sns\n",
    "import re\n",
    "import pickle\n",
    "import zipfile\n",
    "from datetime import datetime\n",
    "from wordcloud import WordCloud, STOPWORDS\n",
    "from sklearn.model_selection import train_test_split\n",
    "from sklearn.ensemble import RandomForestRegressor\n",
    "from sklearn.ensemble import GradientBoostingRegressor\n",
    "import xgboost\n",
    "from scipy.sparse import hstack\n",
    "from sklearn.linear_model import LinearRegression\n",
    "from sklearn.linear_model import Ridge,Lasso,ElasticNet\n",
    "from sklearn.metrics import mean_squared_error\n",
    "from sklearn.linear_model import LogisticRegression\n",
    "from sklearn.ensemble import StackingRegressor\n",
    "from sklearn.feature_extraction.text import TfidfVectorizer\n",
    "from sklearn.preprocessing import Normalizer\n",
    "from sklearn.preprocessing import MinMaxScaler\n",
    "from sklearn.model_selection import RandomizedSearchCV\n",
    "import nltk\n",
    "nltk.download('stopwords')\n",
    "from nltk.corpus import stopwords\n",
    "from nltk.stem import PorterStemmer\n",
    "from nltk.tokenize import word_tokenize\n",
    "\n",
    "import warnings\n",
    "warnings.filterwarnings('ignore')"
   ]
  },
  {
   "cell_type": "code",
   "execution_count": null,
   "metadata": {},
   "outputs": [],
   "source": []
  },
  {
   "cell_type": "markdown",
   "metadata": {},
   "source": [
    "## Load Data"
   ]
  },
  {
   "cell_type": "code",
   "execution_count": 2,
   "metadata": {},
   "outputs": [
    {
     "name": "stdout",
     "output_type": "stream",
     "text": [
      "train_data (74067, 5)\n",
      "Attribute_data (2044803, 3)\n",
      "description_data (124428, 2)\n"
     ]
    }
   ],
   "source": [
    "train_data = zipfile.ZipFile('G:/Applied_AI/case_study_1/train.csv.zip')\n",
    "train_data = pd.read_csv(train_data.open('train.csv'),encoding = \"ISO-8859-1\")\n",
    "print('train_data',train_data.shape)\n",
    "attribute_data = zipfile.ZipFile('G:/Applied_AI/case_study_1/attributes.csv.zip')\n",
    "attribute_data = pd.read_csv(attribute_data.open('attributes.csv'),encoding = \"ISO-8859-1\")\n",
    "print('Attribute_data',attribute_data.shape)\n",
    "description_data = zipfile.ZipFile('G:/Applied_AI/case_study_1/product_descriptions.csv.zip')\n",
    "description_data = pd.read_csv(description_data.open('product_descriptions.csv'),encoding = \"ISO-8859-1\")\n",
    "print('description_data',description_data.shape)"
   ]
  },
  {
   "cell_type": "markdown",
   "metadata": {},
   "source": [
    "## Pre-processing"
   ]
  },
  {
   "cell_type": "markdown",
   "metadata": {},
   "source": [
    "* Merge data"
   ]
  },
  {
   "cell_type": "code",
   "execution_count": 3,
   "metadata": {},
   "outputs": [],
   "source": [
    "dataset = train_data.copy()"
   ]
  },
  {
   "cell_type": "code",
   "execution_count": 4,
   "metadata": {},
   "outputs": [],
   "source": [
    "def merge_attributes(df):\n",
    "    attr = attribute_data.copy()\n",
    "    product_uid = df['product_uid'].values\n",
    "    \n",
    "    temp = attr.loc[attr['product_uid'].isin(product_uid)] \n",
    "    temp['combine_feature'] = temp['name'] + ' ' + temp['value']\n",
    "    \n",
    "    brands = temp[temp['name']=='MFG Brand Name']\n",
    "    brands['brand'] = brands['value']\n",
    "    brands.drop(['name','value','combine_feature'],axis=1,inplace=True)\n",
    "\n",
    "    temp= temp.merge(brands,on='product_uid',how='left')\n",
    "    temp['combine_feature_'] = temp.groupby('product_uid')['combine_feature'].transform(lambda x :''.join(str(x)))\n",
    "    temp = temp.drop_duplicates(subset=['product_uid'])\n",
    "    df = df.merge(temp,on='product_uid',how='left').set_index(df.index)\n",
    "    df.drop(['name','value','combine_feature'],axis=1,inplace=True)\n",
    "    return df\n"
   ]
  },
  {
   "cell_type": "code",
   "execution_count": 5,
   "metadata": {},
   "outputs": [
    {
     "data": {
      "text/html": [
       "<div>\n",
       "<style scoped>\n",
       "    .dataframe tbody tr th:only-of-type {\n",
       "        vertical-align: middle;\n",
       "    }\n",
       "\n",
       "    .dataframe tbody tr th {\n",
       "        vertical-align: top;\n",
       "    }\n",
       "\n",
       "    .dataframe thead th {\n",
       "        text-align: right;\n",
       "    }\n",
       "</style>\n",
       "<table border=\"1\" class=\"dataframe\">\n",
       "  <thead>\n",
       "    <tr style=\"text-align: right;\">\n",
       "      <th></th>\n",
       "      <th>id</th>\n",
       "      <th>product_uid</th>\n",
       "      <th>product_title</th>\n",
       "      <th>search_term</th>\n",
       "      <th>relevance</th>\n",
       "      <th>brand</th>\n",
       "      <th>combine_feature_</th>\n",
       "    </tr>\n",
       "  </thead>\n",
       "  <tbody>\n",
       "    <tr>\n",
       "      <th>0</th>\n",
       "      <td>2</td>\n",
       "      <td>100001</td>\n",
       "      <td>Simpson Strong-Tie 12-Gauge Angle</td>\n",
       "      <td>angle bracket</td>\n",
       "      <td>3.0</td>\n",
       "      <td>Simpson Strong-Tie</td>\n",
       "      <td>0     Bullet01 Versatile connector for various...</td>\n",
       "    </tr>\n",
       "    <tr>\n",
       "      <th>1</th>\n",
       "      <td>3</td>\n",
       "      <td>100001</td>\n",
       "      <td>Simpson Strong-Tie 12-Gauge Angle</td>\n",
       "      <td>l bracket</td>\n",
       "      <td>2.5</td>\n",
       "      <td>Simpson Strong-Tie</td>\n",
       "      <td>0     Bullet01 Versatile connector for various...</td>\n",
       "    </tr>\n",
       "    <tr>\n",
       "      <th>2</th>\n",
       "      <td>9</td>\n",
       "      <td>100002</td>\n",
       "      <td>BEHR Premium Textured DeckOver 1-gal. #SC-141 ...</td>\n",
       "      <td>deck over</td>\n",
       "      <td>3.0</td>\n",
       "      <td>BEHR Premium Textured DeckOver</td>\n",
       "      <td>15                Application Method Brush,Rol...</td>\n",
       "    </tr>\n",
       "  </tbody>\n",
       "</table>\n",
       "</div>"
      ],
      "text/plain": [
       "   id  product_uid                                      product_title  \\\n",
       "0   2       100001                  Simpson Strong-Tie 12-Gauge Angle   \n",
       "1   3       100001                  Simpson Strong-Tie 12-Gauge Angle   \n",
       "2   9       100002  BEHR Premium Textured DeckOver 1-gal. #SC-141 ...   \n",
       "\n",
       "     search_term  relevance                           brand  \\\n",
       "0  angle bracket        3.0              Simpson Strong-Tie   \n",
       "1      l bracket        2.5              Simpson Strong-Tie   \n",
       "2      deck over        3.0  BEHR Premium Textured DeckOver   \n",
       "\n",
       "                                    combine_feature_  \n",
       "0  0     Bullet01 Versatile connector for various...  \n",
       "1  0     Bullet01 Versatile connector for various...  \n",
       "2  15                Application Method Brush,Rol...  "
      ]
     },
     "execution_count": 5,
     "metadata": {},
     "output_type": "execute_result"
    }
   ],
   "source": [
    "dataset = merge_attributes(dataset)\n",
    "dataset.head(3)"
   ]
  },
  {
   "cell_type": "code",
   "execution_count": 6,
   "metadata": {},
   "outputs": [],
   "source": [
    "def merge_description(df):\n",
    "    descrip = description_data.copy()\n",
    "    product_uid = df['product_uid'].values\n",
    "    temp = descrip.loc[descrip['product_uid'].isin(product_uid)]\n",
    "    df = df.merge(temp,on='product_uid',how='left').set_index(df.index)\n",
    "    return df"
   ]
  },
  {
   "cell_type": "code",
   "execution_count": 7,
   "metadata": {},
   "outputs": [
    {
     "data": {
      "text/html": [
       "<div>\n",
       "<style scoped>\n",
       "    .dataframe tbody tr th:only-of-type {\n",
       "        vertical-align: middle;\n",
       "    }\n",
       "\n",
       "    .dataframe tbody tr th {\n",
       "        vertical-align: top;\n",
       "    }\n",
       "\n",
       "    .dataframe thead th {\n",
       "        text-align: right;\n",
       "    }\n",
       "</style>\n",
       "<table border=\"1\" class=\"dataframe\">\n",
       "  <thead>\n",
       "    <tr style=\"text-align: right;\">\n",
       "      <th></th>\n",
       "      <th>id</th>\n",
       "      <th>product_uid</th>\n",
       "      <th>product_title</th>\n",
       "      <th>search_term</th>\n",
       "      <th>relevance</th>\n",
       "      <th>brand</th>\n",
       "      <th>combine_feature_</th>\n",
       "      <th>product_description</th>\n",
       "    </tr>\n",
       "  </thead>\n",
       "  <tbody>\n",
       "    <tr>\n",
       "      <th>0</th>\n",
       "      <td>2</td>\n",
       "      <td>100001</td>\n",
       "      <td>Simpson Strong-Tie 12-Gauge Angle</td>\n",
       "      <td>angle bracket</td>\n",
       "      <td>3.0</td>\n",
       "      <td>Simpson Strong-Tie</td>\n",
       "      <td>0     Bullet01 Versatile connector for various...</td>\n",
       "      <td>Not only do angles make joints stronger, they ...</td>\n",
       "    </tr>\n",
       "    <tr>\n",
       "      <th>1</th>\n",
       "      <td>3</td>\n",
       "      <td>100001</td>\n",
       "      <td>Simpson Strong-Tie 12-Gauge Angle</td>\n",
       "      <td>l bracket</td>\n",
       "      <td>2.5</td>\n",
       "      <td>Simpson Strong-Tie</td>\n",
       "      <td>0     Bullet01 Versatile connector for various...</td>\n",
       "      <td>Not only do angles make joints stronger, they ...</td>\n",
       "    </tr>\n",
       "    <tr>\n",
       "      <th>2</th>\n",
       "      <td>9</td>\n",
       "      <td>100002</td>\n",
       "      <td>BEHR Premium Textured DeckOver 1-gal. #SC-141 ...</td>\n",
       "      <td>deck over</td>\n",
       "      <td>3.0</td>\n",
       "      <td>BEHR Premium Textured DeckOver</td>\n",
       "      <td>15                Application Method Brush,Rol...</td>\n",
       "      <td>BEHR Premium Textured DECKOVER is an innovativ...</td>\n",
       "    </tr>\n",
       "  </tbody>\n",
       "</table>\n",
       "</div>"
      ],
      "text/plain": [
       "   id  product_uid                                      product_title  \\\n",
       "0   2       100001                  Simpson Strong-Tie 12-Gauge Angle   \n",
       "1   3       100001                  Simpson Strong-Tie 12-Gauge Angle   \n",
       "2   9       100002  BEHR Premium Textured DeckOver 1-gal. #SC-141 ...   \n",
       "\n",
       "     search_term  relevance                           brand  \\\n",
       "0  angle bracket        3.0              Simpson Strong-Tie   \n",
       "1      l bracket        2.5              Simpson Strong-Tie   \n",
       "2      deck over        3.0  BEHR Premium Textured DeckOver   \n",
       "\n",
       "                                    combine_feature_  \\\n",
       "0  0     Bullet01 Versatile connector for various...   \n",
       "1  0     Bullet01 Versatile connector for various...   \n",
       "2  15                Application Method Brush,Rol...   \n",
       "\n",
       "                                 product_description  \n",
       "0  Not only do angles make joints stronger, they ...  \n",
       "1  Not only do angles make joints stronger, they ...  \n",
       "2  BEHR Premium Textured DECKOVER is an innovativ...  "
      ]
     },
     "execution_count": 7,
     "metadata": {},
     "output_type": "execute_result"
    }
   ],
   "source": [
    "dataset = merge_description(dataset)\n",
    "dataset.head(3)"
   ]
  },
  {
   "cell_type": "code",
   "execution_count": 8,
   "metadata": {},
   "outputs": [],
   "source": [
    "def extract_n_words(n,text):\n",
    "    if n>len(text.split()):\n",
    "        return 'invalid'\n",
    "    return ' '.join(text.split()[:n])\n",
    "\n",
    "def fill_brand(df):\n",
    "    null_brand_values = df[df['brand'].isna()]\n",
    "    unique_brands = df['brand'].unique()\n",
    "\n",
    "    for i,j in null_brand_values.iterrows():\n",
    "        title=j['product_title']\n",
    "        if extract_n_words(6,title) in unique_brands:\n",
    "            null_brand_values['brand'].loc[i] = extract_n_words(6, title)\n",
    "        elif extract_n_words(5,title) in unique_brands:\n",
    "            null_brand_values['brand'].loc[i] = extract_n_words(5, title)\n",
    "        elif extract_n_words(4,title) in unique_brands:\n",
    "            null_brand_values['brand'].loc[i] = extract_n_words(4, title)\n",
    "        elif extract_n_words(3,title) in unique_brands:\n",
    "            null_brand_values['brand'].loc[i] = extract_n_words(3, title)\n",
    "        elif extract_n_words(2,title) in unique_brands:\n",
    "            null_brand_values['brand'].loc[i] = extract_n_words(2, title)\n",
    "        else:\n",
    "            null_brand_values['brand'].loc[i] = extract_n_words(1, title)\n",
    "            \n",
    "    df['brand'].loc[null_brand_values.index]=null_brand_values['brand'].values\n",
    "    return df"
   ]
  },
  {
   "cell_type": "code",
   "execution_count": 9,
   "metadata": {},
   "outputs": [],
   "source": [
    "dataset = fill_brand(dataset)"
   ]
  },
  {
   "cell_type": "code",
   "execution_count": 10,
   "metadata": {},
   "outputs": [],
   "source": [
    "def fill_attributes(df):\n",
    "    null_df = df[df['combine_feature_'].isna()]\n",
    "    null_df['combine_feature_'] = null_df['product_description'].copy()\n",
    "    df['combine_feature_'].loc[null_df.index] = null_df['combine_feature_'].values\n",
    "    return df\n"
   ]
  },
  {
   "cell_type": "code",
   "execution_count": 11,
   "metadata": {},
   "outputs": [],
   "source": [
    "dataset = fill_attributes(dataset)"
   ]
  },
  {
   "cell_type": "code",
   "execution_count": 12,
   "metadata": {},
   "outputs": [],
   "source": [
    "#Reference : https://towardsdatascience.com/modeling-product-search-relevance-in-e-commerce-home-depot-case-study-8ccb56fbc5ab\n",
    "def standardize_units(text):\n",
    "    text = \" \" + text + \" \"\n",
    "    text = re.sub('( gal | gals | galon )',' gallon ',text)\n",
    "    text = re.sub('( ft | fts | feets | foot | foots )',' feet ',text)\n",
    "    text = re.sub('( squares | sq )',' square ',text)\n",
    "    text = re.sub('( lb | lbs | pounds )',' pound ',text)\n",
    "    text = re.sub('( oz | ozs | ounces | ounc )',' ounce ',text)\n",
    "    text = re.sub('( yds | yd | yards )',' yard ',text)\n",
    "    return text\n",
    "\n",
    "def preprocessing(text):\n",
    "    \n",
    "    text = text.replace('in.','inch')  # Replace in. with inch\n",
    "    text = re.sub('[^A-Za-z0-9.]+',' ',text) # remove special characters except '.'\n",
    "    text = re.sub(r\"(?<!\\d)[.,;:](?!\\d)\",'',text,0) # https://stackoverflow.com/questions/43142710/remove-all-punctuation-from-string-except-if-its-between-digits\n",
    "    text = re.sub(\"[A-Za-z]+\", lambda ele: \" \" + ele[0] + \" \", text)\n",
    "    text = standardize_units(text)\n",
    "    text = text.lower()\n",
    "    text = ' '.join(text.split())\n",
    "    return text"
   ]
  },
  {
   "cell_type": "code",
   "execution_count": 13,
   "metadata": {},
   "outputs": [],
   "source": [
    "stop_words = stopwords.words('english')\n",
    "ps = PorterStemmer()\n",
    "\n",
    "def stopwords_stemming(text):\n",
    "    words = text.split()\n",
    "    words = [w for w in words if w not in stop_words] # Stopwords\n",
    "    words = [ps.stem(word) for word in words] # stemming\n",
    "    return ' '.join(words)\n",
    "\n",
    "def stemming_search(text):\n",
    "    words = text.split()\n",
    "    words = [ps.stem(word) for word in words] # stemming\n",
    "    return ' '.join(words)"
   ]
  },
  {
   "cell_type": "code",
   "execution_count": 14,
   "metadata": {},
   "outputs": [],
   "source": [
    "data = dataset.copy()"
   ]
  },
  {
   "cell_type": "code",
   "execution_count": 15,
   "metadata": {},
   "outputs": [],
   "source": [
    "data['product_title'] = data['product_title'].apply(lambda x: preprocessing(x))\n",
    "data['search_term'] = data['search_term'].apply(lambda x: preprocessing(x)) \n",
    "data['brand'] = data['brand'].apply(lambda x: preprocessing(x))\n",
    "data['combine_feature_'] = data['combine_feature_'].apply(lambda x: preprocessing(x))\n",
    "data['product_description'] =data['product_description'].apply(lambda x: preprocessing(x))\n",
    "\n",
    "\"\"\"\n",
    "furthur preprocessing\n",
    "\"\"\"\n",
    "data['product_title'] = data['product_title'].apply(lambda x: stopwords_stemming(x))\n",
    "data['search_term'] = data['search_term'].apply(lambda x: stemming_search(x))\n",
    "data['brand'] = data['brand'].apply(lambda x: stopwords_stemming(x))\n",
    "data['combine_feature_'] = data['combine_feature_'].apply(lambda x: stopwords_stemming(x))\n",
    "data['product_description'] = data['product_description'].apply(lambda x: stopwords_stemming(x))"
   ]
  },
  {
   "cell_type": "code",
   "execution_count": 16,
   "metadata": {},
   "outputs": [
    {
     "name": "stdout",
     "output_type": "stream",
     "text": [
      "(74067, 8)\n"
     ]
    },
    {
     "data": {
      "text/html": [
       "<div>\n",
       "<style scoped>\n",
       "    .dataframe tbody tr th:only-of-type {\n",
       "        vertical-align: middle;\n",
       "    }\n",
       "\n",
       "    .dataframe tbody tr th {\n",
       "        vertical-align: top;\n",
       "    }\n",
       "\n",
       "    .dataframe thead th {\n",
       "        text-align: right;\n",
       "    }\n",
       "</style>\n",
       "<table border=\"1\" class=\"dataframe\">\n",
       "  <thead>\n",
       "    <tr style=\"text-align: right;\">\n",
       "      <th></th>\n",
       "      <th>id</th>\n",
       "      <th>product_uid</th>\n",
       "      <th>product_title</th>\n",
       "      <th>search_term</th>\n",
       "      <th>relevance</th>\n",
       "      <th>brand</th>\n",
       "      <th>combine_feature_</th>\n",
       "      <th>product_description</th>\n",
       "    </tr>\n",
       "  </thead>\n",
       "  <tbody>\n",
       "    <tr>\n",
       "      <th>0</th>\n",
       "      <td>2</td>\n",
       "      <td>100001</td>\n",
       "      <td>simpson strong tie 12 gaug angl</td>\n",
       "      <td>angl bracket</td>\n",
       "      <td>3.00</td>\n",
       "      <td>simpson strong tie</td>\n",
       "      <td>0 bullet 01 versatil connector variou 90 1 bul...</td>\n",
       "      <td>angl make joint stronger also provid consist s...</td>\n",
       "    </tr>\n",
       "    <tr>\n",
       "      <th>1</th>\n",
       "      <td>3</td>\n",
       "      <td>100001</td>\n",
       "      <td>simpson strong tie 12 gaug angl</td>\n",
       "      <td>l bracket</td>\n",
       "      <td>2.50</td>\n",
       "      <td>simpson strong tie</td>\n",
       "      <td>0 bullet 01 versatil connector variou 90 1 bul...</td>\n",
       "      <td>angl make joint stronger also provid consist s...</td>\n",
       "    </tr>\n",
       "    <tr>\n",
       "      <th>2</th>\n",
       "      <td>9</td>\n",
       "      <td>100002</td>\n",
       "      <td>behr premium textur deckov 1 gallon sc 141 tug...</td>\n",
       "      <td>deck over</td>\n",
       "      <td>3.00</td>\n",
       "      <td>behr premium textur deckov</td>\n",
       "      <td>15 applic method brush roller spray 16 assembl...</td>\n",
       "      <td>behr premium textur deckov innov solid color c...</td>\n",
       "    </tr>\n",
       "    <tr>\n",
       "      <th>3</th>\n",
       "      <td>16</td>\n",
       "      <td>100005</td>\n",
       "      <td>delta vero 1 handl shower faucet trim kit chro...</td>\n",
       "      <td>rain shower head</td>\n",
       "      <td>2.33</td>\n",
       "      <td>delta</td>\n",
       "      <td>50 bath faucet type combo tub shower 51 built ...</td>\n",
       "      <td>updat bathroom delta vero singl handl shower f...</td>\n",
       "    </tr>\n",
       "    <tr>\n",
       "      <th>4</th>\n",
       "      <td>17</td>\n",
       "      <td>100005</td>\n",
       "      <td>delta vero 1 handl shower faucet trim kit chro...</td>\n",
       "      <td>shower onli faucet</td>\n",
       "      <td>2.67</td>\n",
       "      <td>delta</td>\n",
       "      <td>50 bath faucet type combo tub shower 51 built ...</td>\n",
       "      <td>updat bathroom delta vero singl handl shower f...</td>\n",
       "    </tr>\n",
       "  </tbody>\n",
       "</table>\n",
       "</div>"
      ],
      "text/plain": [
       "   id  product_uid                                      product_title  \\\n",
       "0   2       100001                    simpson strong tie 12 gaug angl   \n",
       "1   3       100001                    simpson strong tie 12 gaug angl   \n",
       "2   9       100002  behr premium textur deckov 1 gallon sc 141 tug...   \n",
       "3  16       100005  delta vero 1 handl shower faucet trim kit chro...   \n",
       "4  17       100005  delta vero 1 handl shower faucet trim kit chro...   \n",
       "\n",
       "          search_term  relevance                       brand  \\\n",
       "0        angl bracket       3.00          simpson strong tie   \n",
       "1           l bracket       2.50          simpson strong tie   \n",
       "2           deck over       3.00  behr premium textur deckov   \n",
       "3    rain shower head       2.33                       delta   \n",
       "4  shower onli faucet       2.67                       delta   \n",
       "\n",
       "                                    combine_feature_  \\\n",
       "0  0 bullet 01 versatil connector variou 90 1 bul...   \n",
       "1  0 bullet 01 versatil connector variou 90 1 bul...   \n",
       "2  15 applic method brush roller spray 16 assembl...   \n",
       "3  50 bath faucet type combo tub shower 51 built ...   \n",
       "4  50 bath faucet type combo tub shower 51 built ...   \n",
       "\n",
       "                                 product_description  \n",
       "0  angl make joint stronger also provid consist s...  \n",
       "1  angl make joint stronger also provid consist s...  \n",
       "2  behr premium textur deckov innov solid color c...  \n",
       "3  updat bathroom delta vero singl handl shower f...  \n",
       "4  updat bathroom delta vero singl handl shower f...  "
      ]
     },
     "execution_count": 16,
     "metadata": {},
     "output_type": "execute_result"
    }
   ],
   "source": [
    "print(data.shape)\n",
    "data.head()"
   ]
  },
  {
   "cell_type": "code",
   "execution_count": 17,
   "metadata": {},
   "outputs": [
    {
     "data": {
      "text/plain": [
       "id                     0\n",
       "product_uid            0\n",
       "product_title          0\n",
       "search_term            0\n",
       "relevance              0\n",
       "brand                  0\n",
       "combine_feature_       0\n",
       "product_description    0\n",
       "dtype: int64"
      ]
     },
     "execution_count": 17,
     "metadata": {},
     "output_type": "execute_result"
    }
   ],
   "source": [
    "data.isnull().sum()"
   ]
  },
  {
   "cell_type": "code",
   "execution_count": 18,
   "metadata": {},
   "outputs": [],
   "source": [
    "with open('G:/Final Data_1/clean_dataset_.pkl','wb') as f:\n",
    "    pickle.dump(data,f)"
   ]
  },
  {
   "cell_type": "code",
   "execution_count": null,
   "metadata": {},
   "outputs": [],
   "source": []
  }
 ],
 "metadata": {
  "kernelspec": {
   "display_name": "Python 3",
   "language": "python",
   "name": "python3"
  },
  "language_info": {
   "codemirror_mode": {
    "name": "ipython",
    "version": 3
   },
   "file_extension": ".py",
   "mimetype": "text/x-python",
   "name": "python",
   "nbconvert_exporter": "python",
   "pygments_lexer": "ipython3",
   "version": "3.6.5"
  }
 },
 "nbformat": 4,
 "nbformat_minor": 2
}
